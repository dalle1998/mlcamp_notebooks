{
 "cells": [
  {
   "cell_type": "markdown",
   "id": "6d0fc213",
   "metadata": {
    "deletable": false,
    "editable": false
   },
   "source": [
    "# Project - Traffic Sign Detection - Model Training"
   ]
  },
  {
   "cell_type": "markdown",
   "id": "9c1806b9",
   "metadata": {
    "deletable": false,
    "editable": false
   },
   "source": [
    "## Self driving cars are becoming more prevalent in our world today. However, the technology behind self driving cars is very complicated because it relies on various components such as sensors, cameras and machine learning. Every field needs improvements but the core element is the machine learning algorithm. The ML algorithm needs to detect traffic signs, pedestrians, traffic lights, road lines and other vehicles in order to properly navigate the road. The closer the accuracy of a model is to 100% the more suitable and safe it is for use.\n",
    "<img style=\"float: center; /\"  width = \"1000\"  src=\"Notebook Images/ML-M2-Project-Image1.png\">\n",
    "\n",
    "## Your task is to build an application that can detect and annotate traffic signs from a video input. \n",
    "## The following are the 43 classes of traffic signs:\n",
    "<img style=\"float: center; /\"  width = \"1000\"  src=\"Notebook Images/ML-M2-Project-Image2.png\">\n",
    "\n",
    "## What you need to do:\n",
    "1. Load & show the traffic sign dataset\n",
    "2. Create & train a  convolutional neural network model\n",
    "3. Test & evaluate the model"
   ]
  },
  {
   "cell_type": "markdown",
   "id": "66dec8f7",
   "metadata": {
    "deletable": false,
    "editable": false,
    "id": 1
   },
   "source": [
    "### 1. Load & show the traffic sign dataset"
   ]
  },
  {
   "cell_type": "markdown",
   "id": "5ce53b83",
   "metadata": {
    "deletable": false,
    "editable": false
   },
   "source": [
    "1.1 Load dataset. The filename = \"traffic_sign\". Experiment with data size = [5000, 10000, 35000]"
   ]
  },
  {
   "cell_type": "code",
   "execution_count": 1,
   "id": "e02c615c",
   "metadata": {},
   "outputs": [],
   "source": [
    "data_df = load(\"traffic_sign\", 5000)"
   ]
  },
  {
   "cell_type": "markdown",
   "id": "53376432",
   "metadata": {
    "deletable": false,
    "editable": false
   },
   "source": [
    "1.2 Show the dataset in a table format"
   ]
  },
  {
   "cell_type": "code",
   "execution_count": 2,
   "id": "83b4e522",
   "metadata": {},
   "outputs": [
    {
     "name": "stdout",
     "output_type": "stream",
     "text": [
      "Showing the first 10 rows\n"
     ]
    },
    {
     "data": {
      "text/html": [
       "<table border=\"1\" class=\"dataframe\">\n",
       "  <thead>\n",
       "    <tr style=\"text-align: right;\">\n",
       "      <th>Image</th>\n",
       "      <th>ClassName</th>\n",
       "    </tr>\n",
       "  </thead>\n",
       "  <tbody>\n",
       "    <tr>\n",
       "      <td><img src=\"data:image/jpeg;base64,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\"></td>\n",
       "      <td>No passing</td>\n",
       "    </tr>\n",
       "    <tr>\n",
       "      <td><img src=\"data:image/jpeg;base64,/9j/4AAQSkZJRgABAQAAAQABAAD/2wBDAAgGBgcGBQgHBwcJCQgKDBQNDAsLDBkSEw8UHRofHh0aHBwgJC4nICIsIxwcKDcpLDAxNDQ0Hyc5PTgyPC4zNDL/2wBDAQkJCQwLDBgNDRgyIRwhMjIyMjIyMjIyMjIyMjIyMjIyMjIyMjIyMjIyMjIyMjIyMjIyMjIyMjIyMjIyMjIyMjL/wAARCAAyADIDASIAAhEBAxEB/8QAHwAAAQUBAQEBAQEAAAAAAAAAAAECAwQFBgcICQoL/8QAtRAAAgEDAwIEAwUFBAQAAAF9AQIDAAQRBRIhMUEGE1FhByJxFDKBkaEII0KxwRVS0fAkM2JyggkKFhcYGRolJicoKSo0NTY3ODk6Q0RFRkdISUpTVFVWV1hZWmNkZWZnaGlqc3R1dnd4eXqDhIWGh4iJipKTlJWWl5iZmqKjpKWmp6ipqrKztLW2t7i5usLDxMXGx8jJytLT1NXW19jZ2uHi4+Tl5ufo6erx8vP09fb3+Pn6/8QAHwEAAwEBAQEBAQEBAQAAAAAAAAECAwQFBgcICQoL/8QAtREAAgECBAQDBAcFBAQAAQJ3AAECAxEEBSExBhJBUQdhcRMiMoEIFEKRobHBCSMzUvAVYnLRChYkNOEl8RcYGRomJygpKjU2Nzg5OkNERUZHSElKU1RVVldYWVpjZGVmZ2hpanN0dXZ3eHl6goOEhYaHiImKkpOUlZaXmJmaoqOkpaanqKmqsrO0tba3uLm6wsPExcbHyMnK0tPU1dbX2Nna4uPk5ebn6Onq8vP09fb3+Pn6/9oADAMBAAIRAxEAPwDzW30+ad4xGhcsmQB/Wny6Fes+1jEFx189B/WjSL9YZ8Tk+S6GN8dga6nwxoenanrUmm6jNNHIRmFoiMP+Y9KicpJpR6nVRoU5wcpPYf8ADmKLQNRvJtVktPIli2KXkVuf1qawe2t4JUkvbVSzEgB89/YV3kHwu8P4yz3jH3kA/pV2L4Z+G1HNtM/1matFTrLoiObCPdv7jxi40tWuXcahZFWJIy7d/wAKgu9OW2txNBcxTlSA+wnj8xXrXi3wt4W8O+H57tbDM5GyEGVj8x79fxryW7kWCOK0P3mxJLj9B+XP40rzUrSsXKFD2PPTvvZXKeFzy3PeipBFbMAWLZPJoq7M5TGiJCkfia6HS7+aSCOeN9t7YkMrDqUH88fyrnQBu+bjPWr0Fx9l1CGaHnbgMp7juKynG6sbUavs5pn0t4W1iLXdFgvYyNxG2RR/Cw6it1ep5714z4E1saB4gW0dj/Z2ogNGW/hJ6frxXpfifW49C8P3F6SPM27Yge7HpXTSq80Pe3W5liMO41UobS2PNfiNrqal4ha1D5s9OUl8chn7/rgV5pK73Uk00hwzHOB71p6g7mDbIzb5j50rHjJ7D+tYhmZm+7gVitfffX+kaVmk1TjtHT/NlgEgAGbGKKreZ9KKLGdyOZXWNC3H90e1KpDPvJHXFLcthEDncMZAHaod37pSvT+tDRKOg0q6e+WWxdsOv7y3Of4h1GfcD866nUfENz4mgsLO4JEdlGWmYnAcjuT24wPxrgLTdawmdX2zAgx49a7G1bzdIurg2wilmT59rZDHHYdueahwblfvudkMSoUmmtY7HL6hem6dsDgtkgdAOgrP2sSTyO1O58sLyoJyT61JhETcW59+a0buzjRHsPdDmijc3/PRqKVkPUklAIBIzUW0YXgUUU2IsjoB2xXd6iqxaURGoQeUpwox2ooo+2hS+Bnnbf6+i4Pyp9TRRR1ZXYB0FFFFQUf/2Q==\"></td>\n",
       "      <td>Yield</td>\n",
       "    </tr>\n",
       "    <tr>\n",
       "      <td><img src=\"data:image/jpeg;base64,/9j/4AAQSkZJRgABAQAAAQABAAD/2wBDAAgGBgcGBQgHBwcJCQgKDBQNDAsLDBkSEw8UHRofHh0aHBwgJC4nICIsIxwcKDcpLDAxNDQ0Hyc5PTgyPC4zNDL/2wBDAQkJCQwLDBgNDRgyIRwhMjIyMjIyMjIyMjIyMjIyMjIyMjIyMjIyMjIyMjIyMjIyMjIyMjIyMjIyMjIyMjIyMjL/wAARCAAyADIDASIAAhEBAxEB/8QAHwAAAQUBAQEBAQEAAAAAAAAAAAECAwQFBgcICQoL/8QAtRAAAgEDAwIEAwUFBAQAAAF9AQIDAAQRBRIhMUEGE1FhByJxFDKBkaEII0KxwRVS0fAkM2JyggkKFhcYGRolJicoKSo0NTY3ODk6Q0RFRkdISUpTVFVWV1hZWmNkZWZnaGlqc3R1dnd4eXqDhIWGh4iJipKTlJWWl5iZmqKjpKWmp6ipqrKztLW2t7i5usLDxMXGx8jJytLT1NXW19jZ2uHi4+Tl5ufo6erx8vP09fb3+Pn6/8QAHwEAAwEBAQEBAQEBAQAAAAAAAAECAwQFBgcICQoL/8QAtREAAgECBAQDBAcFBAQAAQJ3AAECAxEEBSExBhJBUQdhcRMiMoEIFEKRobHBCSMzUvAVYnLRChYkNOEl8RcYGRomJygpKjU2Nzg5OkNERUZHSElKU1RVVldYWVpjZGVmZ2hpanN0dXZ3eHl6goOEhYaHiImKkpOUlZaXmJmaoqOkpaanqKmqsrO0tba3uLm6wsPExcbHyMnK0tPU1dbX2Nna4uPk5ebn6Onq8vP09fb3+Pn6/9oADAMBAAIRAxEAPwDz1yKjJLDJ/KiU55XqKRD5gBA+tQMkt2xMrHPXApJ1w7Anmn2gAmaWRdyRc49T2p9wy3NuLpEC9mC9qTkr2LVOTi5LYpMwIVe/Wrem6bPqtwILcjce57VSfaSCOvpXTeDBs1VWU5Y8Ae+Kq1zJuxZHw51HH/H1D+X/ANeiu8+y6qeftSD2xRVcnmPm8jxguV4PSmRylZCV6Z6VOF3o2eDTbOJftTNJnagyQOpqRpX0N3Q9Lk1PVbfTwBsLCWbHQD3NbXjPQV0m9S6t4wtnMAj7R8oNT+GSmjaW14+BeXTgKpH3Uzjn3rb1G+N+z6bfrGsDxZBHPzHpn0rJxbV1udntVCSh0PI7mAxXJQ8YrV8OahHp19HPMcIG5+mKc2nlp5LSbJlhPGeu2rKaPG2B6dc01UsjCrS5ZWWx6Gnjvw7sXN0+cf3KK4L+xYP7ooqvbrsZeyXc53aQSRn8a0LaGLzba2uGWOOUh5Wb0+tQHBWtDThFe3scM9tExbC7mzn0FKV3sbUpRhK8js59Y0G3H2eOaB4go2t/d7Ee9UbrW/D9vOJ7S5kZ8DK44yPT0rRbwnpVtCJbjyI0A+8xx/Os2+HhzTgpSZJMkAiJlOM0vf6F3oXvZmN4h1jSrma2udNeTz4zhiyYyPrU5nDIkqY2uuQRWtrVjb2Wnx3No+5ZMYJUf4Vy5uHZlLMTzis3Fp6lTq05RSijUD8D5h+dFUPOiHBds0UrGOplr/qxV/Sv+Qlb/wC+P50UV0Lciex2PikltR0yNuUOcqeh/CsvxDa28enFkgiUho+QgHc0UVSB/B8jT8SgL4btwAAMDp9K4butFFZz+Jkw+FDCeTRRRUGp/9k=\"></td>\n",
       "      <td>Bicycles crossing</td>\n",
       "    </tr>\n",
       "    <tr>\n",
       "      <td><img src=\"data:image/jpeg;base64,/9j/4AAQSkZJRgABAQAAAQABAAD/2wBDAAgGBgcGBQgHBwcJCQgKDBQNDAsLDBkSEw8UHRofHh0aHBwgJC4nICIsIxwcKDcpLDAxNDQ0Hyc5PTgyPC4zNDL/2wBDAQkJCQwLDBgNDRgyIRwhMjIyMjIyMjIyMjIyMjIyMjIyMjIyMjIyMjIyMjIyMjIyMjIyMjIyMjIyMjIyMjIyMjL/wAARCAAyADIDASIAAhEBAxEB/8QAHwAAAQUBAQEBAQEAAAAAAAAAAAECAwQFBgcICQoL/8QAtRAAAgEDAwIEAwUFBAQAAAF9AQIDAAQRBRIhMUEGE1FhByJxFDKBkaEII0KxwRVS0fAkM2JyggkKFhcYGRolJicoKSo0NTY3ODk6Q0RFRkdISUpTVFVWV1hZWmNkZWZnaGlqc3R1dnd4eXqDhIWGh4iJipKTlJWWl5iZmqKjpKWmp6ipqrKztLW2t7i5usLDxMXGx8jJytLT1NXW19jZ2uHi4+Tl5ufo6erx8vP09fb3+Pn6/8QAHwEAAwEBAQEBAQEBAQAAAAAAAAECAwQFBgcICQoL/8QAtREAAgECBAQDBAcFBAQAAQJ3AAECAxEEBSExBhJBUQdhcRMiMoEIFEKRobHBCSMzUvAVYnLRChYkNOEl8RcYGRomJygpKjU2Nzg5OkNERUZHSElKU1RVVldYWVpjZGVmZ2hpanN0dXZ3eHl6goOEhYaHiImKkpOUlZaXmJmaoqOkpaanqKmqsrO0tba3uLm6wsPExcbHyMnK0tPU1dbX2Nna4uPk5ebn6Onq8vP09fb3+Pn6/9oADAMBAAIRAxEAPwChpnhDUL1zcKxVsnLOOK5680yTSbyW0uP3izMSHHTNe1tcbY2jiZlRuMbcCuK8Yack9kpACzLzuJ71lCV3ZlySSXKeSX4lWco5O1D8v0qCbzJVMpjJHTOK25YYdwjYG4n/ANnkZq59mvjZ+UdNHk9fu1V1eyLVGTV2YOhqZLzaHVSR1NaUpaZRE7GQ9vYUlrbWq3Lb0MTDop9aqSs9rOWTK89KW92TNNWiy6GjUY9OKKpG4VjkkZPNFMjlZ67pniqXVNMjhymcdT1rl/FerTi2aKQneTtWuWF9JpNxPBC5xn5TTZruS/tfNkYsyOCc1KXKrGtP36ibNy2tn0e1spUCGe6GWaQZwK6D+15bSz3ziJ2ZgibB1NVXu7G402wkmgMyomCRzt+uKy5YZt0dwIpRaCUMATn9OtawWl0YVZO7vvcdq0BvjNG9uIbyJN+V7iuXun861DdCODn/ABrsru+j/tC+1AjERg2Jnua4a4JSxIP8TlvbFJpXNotum+YrYT+8fzoqvlfWilYjmLV4zGbcxyT1p1nd+TIQwzG3BFEqB/mPftXW+FfDtvqVrI0o5HFLccbrVFHTtTm04gw4lgb+E849q3W8ZxmDYbPJ9DV5/B9nEpZZGGO1VYvDkF0+xJGB9xTUWtinVjL4lqczqeqS34JmCxQ5+6vf2rnrq7Nw+OAo4CjpXo0/gNXBzLmuF1zTF0zUDbqcgVSjpczlV5nYy9poqXbRSAtdlr0vwN/yD5fqKKKmO41syzO7/wBozLubHpmrdvwoI60UVrIxp7GjCSYGySa8l8X/APIek+tFFOPwMT/iI5/JooorI1P/2Q==\"></td>\n",
       "      <td>Speed limit (50km/h)</td>\n",
       "    </tr>\n",
       "    <tr>\n",
       "      <td><img src=\"data:image/jpeg;base64,/9j/4AAQSkZJRgABAQAAAQABAAD/2wBDAAgGBgcGBQgHBwcJCQgKDBQNDAsLDBkSEw8UHRofHh0aHBwgJC4nICIsIxwcKDcpLDAxNDQ0Hyc5PTgyPC4zNDL/2wBDAQkJCQwLDBgNDRgyIRwhMjIyMjIyMjIyMjIyMjIyMjIyMjIyMjIyMjIyMjIyMjIyMjIyMjIyMjIyMjIyMjIyMjL/wAARCAAyADIDASIAAhEBAxEB/8QAHwAAAQUBAQEBAQEAAAAAAAAAAAECAwQFBgcICQoL/8QAtRAAAgEDAwIEAwUFBAQAAAF9AQIDAAQRBRIhMUEGE1FhByJxFDKBkaEII0KxwRVS0fAkM2JyggkKFhcYGRolJicoKSo0NTY3ODk6Q0RFRkdISUpTVFVWV1hZWmNkZWZnaGlqc3R1dnd4eXqDhIWGh4iJipKTlJWWl5iZmqKjpKWmp6ipqrKztLW2t7i5usLDxMXGx8jJytLT1NXW19jZ2uHi4+Tl5ufo6erx8vP09fb3+Pn6/8QAHwEAAwEBAQEBAQEBAQAAAAAAAAECAwQFBgcICQoL/8QAtREAAgECBAQDBAcFBAQAAQJ3AAECAxEEBSExBhJBUQdhcRMiMoEIFEKRobHBCSMzUvAVYnLRChYkNOEl8RcYGRomJygpKjU2Nzg5OkNERUZHSElKU1RVVldYWVpjZGVmZ2hpanN0dXZ3eHl6goOEhYaHiImKkpOUlZaXmJmaoqOkpaanqKmqsrO0tba3uLm6wsPExcbHyMnK0tPU1dbX2Nna4uPk5ebn6Onq8vP09fb3+Pn6/9oADAMBAAIRAxEAPwD3+vOfiP4cXUkFxE6eaoyVyM16ITksoPOK8A+Iceo2viJ/9Klw54+Y4pxm4O6Goc7sc5ql46Wq2LREMnU1jxI7twDgdTW0dC1aZBLlJc88tVe40rVTEY3tmKdwneuhYyytYTwl3uRw+I/7NHl2t7NEf4jEcZrf8L+LdQvNcgibVLuRCR8rOa4ybRZEJ328ifga1PCel3Ta9b/YwchuSeMVzyqczuy3ScUfVUOTBGSedo/lRVCASrbxK10uQgB49qKm7JNEfeNeb/E7RPtdqbqJPnTkmvR0xvb1qhqdmt/aTwsAcrQCdnc8P0G88218pj861sAVzk8D6J4jlt34UsSK25ruOO3aTcOFqTWSu7oxvEV4+z7NAC0jdl5NY8Wt+ItEi2QaeYUI++YDk/jXZ/D/AEk614ga/uP9Wh4z3r2a4tYJI9jQRsMYGVBxTj3CbsuU+Wz408SEk/aJf++KK9fn0y3+0S/uovvn+EetFOy7Gdz0SCYNI1CTAO5PQVn28wDuc0Q3ALtg0CPG/iNMja9vjQqcnnGKwxO1+sNjbks7kA1vfEcGTUw4q38NvDjTXovp0wq8rnvUyV3oawklHU9I8J6JDo+mwx7R5hXLGullYAH6VRWUCcAEACn3M+C3f5Tz+FUZPXU4S4kBuZTx98/zorPnJNxKc9XP86KrULG3HI4DYdvzqJZHBOHYfjRRUoaOE8WktqDZ5+bvXX+F3ZdKh2sRwehoopvcF0NlZZPOz5jfnTriaTY37x+h/iNFFA2cPIzea/J+8e9FFFUSf//Z\"></td>\n",
       "      <td>Yield</td>\n",
       "    </tr>\n",
       "    <tr>\n",
       "      <td><img src=\"data:image/jpeg;base64,/9j/4AAQSkZJRgABAQAAAQABAAD/2wBDAAgGBgcGBQgHBwcJCQgKDBQNDAsLDBkSEw8UHRofHh0aHBwgJC4nICIsIxwcKDcpLDAxNDQ0Hyc5PTgyPC4zNDL/2wBDAQkJCQwLDBgNDRgyIRwhMjIyMjIyMjIyMjIyMjIyMjIyMjIyMjIyMjIyMjIyMjIyMjIyMjIyMjIyMjIyMjIyMjL/wAARCAAyADIDASIAAhEBAxEB/8QAHwAAAQUBAQEBAQEAAAAAAAAAAAECAwQFBgcICQoL/8QAtRAAAgEDAwIEAwUFBAQAAAF9AQIDAAQRBRIhMUEGE1FhByJxFDKBkaEII0KxwRVS0fAkM2JyggkKFhcYGRolJicoKSo0NTY3ODk6Q0RFRkdISUpTVFVWV1hZWmNkZWZnaGlqc3R1dnd4eXqDhIWGh4iJipKTlJWWl5iZmqKjpKWmp6ipqrKztLW2t7i5usLDxMXGx8jJytLT1NXW19jZ2uHi4+Tl5ufo6erx8vP09fb3+Pn6/8QAHwEAAwEBAQEBAQEBAQAAAAAAAAECAwQFBgcICQoL/8QAtREAAgECBAQDBAcFBAQAAQJ3AAECAxEEBSExBhJBUQdhcRMiMoEIFEKRobHBCSMzUvAVYnLRChYkNOEl8RcYGRomJygpKjU2Nzg5OkNERUZHSElKU1RVVldYWVpjZGVmZ2hpanN0dXZ3eHl6goOEhYaHiImKkpOUlZaXmJmaoqOkpaanqKmqsrO0tba3uLm6wsPExcbHyMnK0tPU1dbX2Nna4uPk5ebn6Onq8vP09fb3+Pn6/9oADAMBAAIRAxEAPwC09/s4ZuPWq13dK9s4Vs59KzWm3j5hkVILqFYSvlj8q2uY8pet7oLbrnJqUXUbdDj2Nc7da1DbDbkZxwBVKHxBAy7ZtwOeGxWbqJGyw85K9jsDNxnzAB7VEbmAcNJk+9Y8Uy3EYeKTch560cHOTzVqV9TNwadma32m19F/KisnIoouFiPvkk4rM1S7MCLGnMrHArTAzWLMu/xLAkn3cr1rKq9NDow0U56mxpHheF4xcXwLs3IU1qSeHtMkQp9mUZ7jqK1BxwBwKU9RisUkjSVWTdzhdRsJvD1wssTM1ux5FaodZYknQhkcZFaPiNEfQ5t/RcEGue0VmfR0z2Y4qqekrDq+/T5+pfyaKTB9KK6ThGCQMQKy9XgYNFeRZMiMCce1TmTacA00XJyVb5geq1lP3lY3pS5JXOj0nWre/tkBkAlxggnnNaTTxopZnUKOpzXn02nxufMgZomz2HWmG0u5QVku5WX0wTmsFdaM6XGnLVOxr+JNXS9VbC1bdk/MR2p9rCLa0SIdAM/nWfa20VqQUhcsP4ttaBkzGG7n1rSmrO7Mq1ROPLHYfuNFV/Ob0/Sit7nLYpHrWrpyKdMuGKgkHqRRRULc0QWwBtQcDPNXtPVTGcqD+FFFTLcfQgh/5CoHb0qrqvy3kgHAz2oop9UT0Zn5PqaKKKYj/9k=\"></td>\n",
       "      <td>No vehicles</td>\n",
       "    </tr>\n",
       "    <tr>\n",
       "      <td><img src=\"data:image/jpeg;base64,/9j/4AAQSkZJRgABAQAAAQABAAD/2wBDAAgGBgcGBQgHBwcJCQgKDBQNDAsLDBkSEw8UHRofHh0aHBwgJC4nICIsIxwcKDcpLDAxNDQ0Hyc5PTgyPC4zNDL/2wBDAQkJCQwLDBgNDRgyIRwhMjIyMjIyMjIyMjIyMjIyMjIyMjIyMjIyMjIyMjIyMjIyMjIyMjIyMjIyMjIyMjIyMjL/wAARCAAyADIDASIAAhEBAxEB/8QAHwAAAQUBAQEBAQEAAAAAAAAAAAECAwQFBgcICQoL/8QAtRAAAgEDAwIEAwUFBAQAAAF9AQIDAAQRBRIhMUEGE1FhByJxFDKBkaEII0KxwRVS0fAkM2JyggkKFhcYGRolJicoKSo0NTY3ODk6Q0RFRkdISUpTVFVWV1hZWmNkZWZnaGlqc3R1dnd4eXqDhIWGh4iJipKTlJWWl5iZmqKjpKWmp6ipqrKztLW2t7i5usLDxMXGx8jJytLT1NXW19jZ2uHi4+Tl5ufo6erx8vP09fb3+Pn6/8QAHwEAAwEBAQEBAQEBAQAAAAAAAAECAwQFBgcICQoL/8QAtREAAgECBAQDBAcFBAQAAQJ3AAECAxEEBSExBhJBUQdhcRMiMoEIFEKRobHBCSMzUvAVYnLRChYkNOEl8RcYGRomJygpKjU2Nzg5OkNERUZHSElKU1RVVldYWVpjZGVmZ2hpanN0dXZ3eHl6goOEhYaHiImKkpOUlZaXmJmaoqOkpaanqKmqsrO0tba3uLm6wsPExcbHyMnK0tPU1dbX2Nna4uPk5ebn6Onq8vP09fb3+Pn6/9oADAMBAAIRAxEAPwCnwec0oPesWw1VXGyQ8+tawYMoI5FdSdzC1iQn8qTPrUUsywwPIxwqgk1z2h619s1CeOV8BjlB2ockmUotps6WjIHekyCKKogXj/Iopu760UDOGglKP3rorG9ymXbjtXHJNz8x960Ir9dwDH5AK507M1tc0vE+oj7OlpEfnkwTj0rCeBrIR3EOd8eM+9MaaW4mkvDjC/KufSoku3kkYBj8xAwTwPWlJqWrLXu6HfadfJf2aSqcHHI96tPIq/ePWuJ0q/Ok3zQyf6mTke1aV9rCP/qyc1pGempnKOuhum8QEjniiuU/tZ/Sinzk8pghqWR9sfXluKjFPyAMcGsDVF1J7NbYQs+R3+tRCW28w72ymRgAelVwwx0H5U0t+87YI9Keo3Zlq9uobiMBc7h0piS5jGaiyPQUhPPFGoNq1kTb6Kh3UUEkdONFFAAe1N/jH0oooGSdqb3oopiFooooGf/Z\"></td>\n",
       "      <td>Beware of ice/snow</td>\n",
       "    </tr>\n",
       "    <tr>\n",
       "      <td><img src=\"data:image/jpeg;base64,/9j/4AAQSkZJRgABAQAAAQABAAD/2wBDAAgGBgcGBQgHBwcJCQgKDBQNDAsLDBkSEw8UHRofHh0aHBwgJC4nICIsIxwcKDcpLDAxNDQ0Hyc5PTgyPC4zNDL/2wBDAQkJCQwLDBgNDRgyIRwhMjIyMjIyMjIyMjIyMjIyMjIyMjIyMjIyMjIyMjIyMjIyMjIyMjIyMjIyMjIyMjIyMjL/wAARCAAyADIDASIAAhEBAxEB/8QAHwAAAQUBAQEBAQEAAAAAAAAAAAECAwQFBgcICQoL/8QAtRAAAgEDAwIEAwUFBAQAAAF9AQIDAAQRBRIhMUEGE1FhByJxFDKBkaEII0KxwRVS0fAkM2JyggkKFhcYGRolJicoKSo0NTY3ODk6Q0RFRkdISUpTVFVWV1hZWmNkZWZnaGlqc3R1dnd4eXqDhIWGh4iJipKTlJWWl5iZmqKjpKWmp6ipqrKztLW2t7i5usLDxMXGx8jJytLT1NXW19jZ2uHi4+Tl5ufo6erx8vP09fb3+Pn6/8QAHwEAAwEBAQEBAQEBAQAAAAAAAAECAwQFBgcICQoL/8QAtREAAgECBAQDBAcFBAQAAQJ3AAECAxEEBSExBhJBUQdhcRMiMoEIFEKRobHBCSMzUvAVYnLRChYkNOEl8RcYGRomJygpKjU2Nzg5OkNERUZHSElKU1RVVldYWVpjZGVmZ2hpanN0dXZ3eHl6goOEhYaHiImKkpOUlZaXmJmaoqOkpaanqKmqsrO0tba3uLm6wsPExcbHyMnK0tPU1dbX2Nna4uPk5ebn6Onq8vP09fb3+Pn6/9oADAMBAAIRAxEAPwDJFpag/wCpWplgt1HES1GDSg9qBFy3aKJgyxqMVrWOqR/alMiqFB71y11di1gMh5x2p1jerdxBxwe4pA0esRX1o8QZZFxVuOWFwNjBs15al3Ig2q5Aqzb6rPA4Ikbj3pWHc9N59BRXGDxU4UUU+UOZHGg460Z5pmfaoLy4EFu7k4OOKARl6rOZ7kW6n5V5NRWFw1ldhc/u2qryUeVidzHNJ5qzKEwQw6ULuU+x2CuCAQeDShuKydJvfNi8tz8y1o7xTIJ99FQbx6iikAmawNZud06xDO1etdAOnSsTVo0EykjHHXFDGtDO+1IAAFJprXCN/wAszn1qRYkYZBP50piQdc/nQVoMt7lo7pXRTzwR610vmAxg46iudQqJl2gjBAzW433ODQS9WHmD1oqDJ9KKANMdayNZ/wBYv+7RRQgMxuEXHpSjoPrRRR1AX/loPqK2T90fSiin0F1ID1ooopFH/9k=\"></td>\n",
       "      <td>Wild animals crossing</td>\n",
       "    </tr>\n",
       "    <tr>\n",
       "      <td><img src=\"data:image/jpeg;base64,/9j/4AAQSkZJRgABAQAAAQABAAD/2wBDAAgGBgcGBQgHBwcJCQgKDBQNDAsLDBkSEw8UHRofHh0aHBwgJC4nICIsIxwcKDcpLDAxNDQ0Hyc5PTgyPC4zNDL/2wBDAQkJCQwLDBgNDRgyIRwhMjIyMjIyMjIyMjIyMjIyMjIyMjIyMjIyMjIyMjIyMjIyMjIyMjIyMjIyMjIyMjIyMjL/wAARCAAyADIDASIAAhEBAxEB/8QAHwAAAQUBAQEBAQEAAAAAAAAAAAECAwQFBgcICQoL/8QAtRAAAgEDAwIEAwUFBAQAAAF9AQIDAAQRBRIhMUEGE1FhByJxFDKBkaEII0KxwRVS0fAkM2JyggkKFhcYGRolJicoKSo0NTY3ODk6Q0RFRkdISUpTVFVWV1hZWmNkZWZnaGlqc3R1dnd4eXqDhIWGh4iJipKTlJWWl5iZmqKjpKWmp6ipqrKztLW2t7i5usLDxMXGx8jJytLT1NXW19jZ2uHi4+Tl5ufo6erx8vP09fb3+Pn6/8QAHwEAAwEBAQEBAQEBAQAAAAAAAAECAwQFBgcICQoL/8QAtREAAgECBAQDBAcFBAQAAQJ3AAECAxEEBSExBhJBUQdhcRMiMoEIFEKRobHBCSMzUvAVYnLRChYkNOEl8RcYGRomJygpKjU2Nzg5OkNERUZHSElKU1RVVldYWVpjZGVmZ2hpanN0dXZ3eHl6goOEhYaHiImKkpOUlZaXmJmaoqOkpaanqKmqsrO0tba3uLm6wsPExcbHyMnK0tPU1dbX2Nna4uPk5ebn6Onq8vP09fb3+Pn6/9oADAMBAAIRAxEAPwDxc8ikHFKwA5zRwRTATPNJxmnrG7nhSaebWUDO2gCE8HNDGnMpHBBBFM+tABRRRQA5ulPt0MkgAFMI4q1Zbctu/wD10FRV3Y6nQdEW8TLSKsZ6n0FdFL4OtHty1rIxccgsa5u5SSSwtvsoKgoMqhrcstcls7KOEw3EjoPmYJVU/eTujScnFKzOR1bTGhldGGJF7etc/jmu78Q3Yu5beQrhipz9MVwsp2yMBzzUKydkFRXSkJRTdxopmI5uBzUlvMY3zwR3zTM560gHIotcDrdG1r7DgiMSwt1U9RW5L4qgWMmK1y2OmOKqaHo1k+nRzy7gzfqa05NO05flYyn24q+WS0TK9rB6yRxOpXxLNLIcyv0UdFFYJJJJru/Euh2Vtpv2mBSCfWuDbgms7W0HKXNqLmim80UyB/enDqKKKFuB6VoXOgx/71a+BsXgUUVuzHoY3iv/AJAZ+teZnrRRWD3No/CFFFFAH//Z\"></td>\n",
       "      <td>No passing for vehicles over 3.5 metric tons</td>\n",
       "    </tr>\n",
       "    <tr>\n",
       "      <td><img src=\"data:image/jpeg;base64,/9j/4AAQSkZJRgABAQAAAQABAAD/2wBDAAgGBgcGBQgHBwcJCQgKDBQNDAsLDBkSEw8UHRofHh0aHBwgJC4nICIsIxwcKDcpLDAxNDQ0Hyc5PTgyPC4zNDL/2wBDAQkJCQwLDBgNDRgyIRwhMjIyMjIyMjIyMjIyMjIyMjIyMjIyMjIyMjIyMjIyMjIyMjIyMjIyMjIyMjIyMjIyMjL/wAARCAAyADIDASIAAhEBAxEB/8QAHwAAAQUBAQEBAQEAAAAAAAAAAAECAwQFBgcICQoL/8QAtRAAAgEDAwIEAwUFBAQAAAF9AQIDAAQRBRIhMUEGE1FhByJxFDKBkaEII0KxwRVS0fAkM2JyggkKFhcYGRolJicoKSo0NTY3ODk6Q0RFRkdISUpTVFVWV1hZWmNkZWZnaGlqc3R1dnd4eXqDhIWGh4iJipKTlJWWl5iZmqKjpKWmp6ipqrKztLW2t7i5usLDxMXGx8jJytLT1NXW19jZ2uHi4+Tl5ufo6erx8vP09fb3+Pn6/8QAHwEAAwEBAQEBAQEBAQAAAAAAAAECAwQFBgcICQoL/8QAtREAAgECBAQDBAcFBAQAAQJ3AAECAxEEBSExBhJBUQdhcRMiMoEIFEKRobHBCSMzUvAVYnLRChYkNOEl8RcYGRomJygpKjU2Nzg5OkNERUZHSElKU1RVVldYWVpjZGVmZ2hpanN0dXZ3eHl6goOEhYaHiImKkpOUlZaXmJmaoqOkpaanqKmqsrO0tba3uLm6wsPExcbHyMnK0tPU1dbX2Nna4uPk5ebn6Onq8vP09fb3+Pn6/9oADAMBAAIRAxEAPwDxktz8tIg5pPpTo1JbPp3qSx2MdKYQ2elWI0klJESZ96nGn3Jz0z6UrlcvdlA0damkRkO2RMGoyCOKdxONhM0UmDRTENz3zUyJkIo6saiEZcZBqzCQksLN0BqWVDcvrK9vugt4lOwZcmhrqSdYRG2wyHBIpLlBLfELJ5SsOT/eqBQyRIU+dYZOo9Kq2hnfXUmaN5DNbStvdBuU1nYzGT3U1pCdZb57iMHyxHgkjFZpbEbk9zSZpH4XcZRTcmimSRhiDxU8TlhtJ57VBRkg5zRYSdmasc8LqI7lTxxuFXVurKKMKrDaO1ZEMc8y8Rlx64q0umyk5Zdo9zS1RXusS6u/tHyRKEjH4VQlYHhegrXj0d5FyZAB6Cob7TltYwQSc00hSktkZOaKTNFMkUUlFFIZ1WkgfYk4q1dfcX60UUMQ5OEGKo6x/wAetFFERM5iiiigZ//Z\"></td>\n",
       "      <td>Speed limit (80km/h)</td>\n",
       "    </tr>\n",
       "  </tbody>\n",
       "</table>"
      ],
      "text/plain": [
       "<IPython.core.display.HTML object>"
      ]
     },
     "metadata": {},
     "output_type": "display_data"
    }
   ],
   "source": [
    "show(data_df)"
   ]
  },
  {
   "cell_type": "markdown",
   "id": "db54e404",
   "metadata": {
    "deletable": false,
    "editable": false,
    "id": 2
   },
   "source": [
    "### 2. Create & train a Neural Network Model"
   ]
  },
  {
   "cell_type": "markdown",
   "id": "2c894ee9",
   "metadata": {
    "deletable": false,
    "editable": false
   },
   "source": [
    "2.1 Split the dataset"
   ]
  },
  {
   "cell_type": "code",
   "execution_count": 3,
   "id": "4ebe1b92",
   "metadata": {},
   "outputs": [],
   "source": [
    "train_df, test_df = split_table(data_df)"
   ]
  },
  {
   "cell_type": "markdown",
   "id": "c0ca9cf9",
   "metadata": {
    "deletable": false,
    "editable": false
   },
   "source": [
    "2.2 Create a Convolutional Neural Network "
   ]
  },
  {
   "cell_type": "code",
   "execution_count": 4,
   "id": "7409d9f4",
   "metadata": {},
   "outputs": [],
   "source": [
    "model_CNN = create_model(\"ConvolutionalNN\")"
   ]
  },
  {
   "cell_type": "markdown",
   "id": "c4dd0eba",
   "metadata": {
    "deletable": false,
    "editable": false
   },
   "source": [
    "2.3 Create each of the following architectures and compare:\n",
    "</br>\n",
    "    - [Convolutional -  Pooling]</br>\n",
    "    - [Conv - Pooling - Conv - Pooling]</br>\n",
    "Experiment with the following number of Neurons per Conv layer: [20, 40, 60]"
   ]
  },
  {
   "cell_type": "code",
   "execution_count": 5,
   "id": "dda966cb",
   "metadata": {},
   "outputs": [],
   "source": [
    "add_layer(model_CNN, \"Conv\", 20)\n",
    "add_layer(model_CNN, \"Pooling\")\n",
    "add_layer(model_CNN, \"Conv\", 40)\n",
    "add_layer(model_CNN, \"Pooling\")"
   ]
  },
  {
   "cell_type": "markdown",
   "id": "b9ccbddd",
   "metadata": {
    "deletable": false,
    "editable": false
   },
   "source": [
    "2.4 Train the model using the training data. Specify the number of epochs. Train the model on different dataset sizes with 5 or 10 epochs. Compare each approach."
   ]
  },
  {
   "cell_type": "code",
   "execution_count": 6,
   "id": "95d02cd9",
   "metadata": {},
   "outputs": [
    {
     "name": "stdout",
     "output_type": "stream",
     "text": [
      "Size of Training Data = 4000\n",
      "\n",
      "\n",
      "Number of Epochs = 10\n",
      "\n",
      "\n",
      "\n",
      "\n",
      "---------------------------------------------------------------------------------------------\n",
      "Epoch 1:\n",
      "\n",
      "Training Time per Epoch = 0.79s | Training Accuracy = 28.0% | Testing Accuracy = 45.63%\n",
      "---------------------------------------------------------------------------------------------\n",
      "Epoch 2:\n",
      "\n",
      "Training Time per Epoch = 0.38s | Training Accuracy = 66.34% | Testing Accuracy = 73.0%\n",
      "---------------------------------------------------------------------------------------------\n",
      "Epoch 3:\n",
      "\n",
      "Training Time per Epoch = 0.36s | Training Accuracy = 84.38% | Testing Accuracy = 81.38%\n",
      "---------------------------------------------------------------------------------------------\n",
      "Epoch 4:\n",
      "\n",
      "Training Time per Epoch = 0.38s | Training Accuracy = 91.69% | Testing Accuracy = 85.75%\n",
      "---------------------------------------------------------------------------------------------\n",
      "Epoch 5:\n",
      "\n",
      "Training Time per Epoch = 0.37s | Training Accuracy = 93.84% | Testing Accuracy = 86.12%\n",
      "---------------------------------------------------------------------------------------------\n",
      "Epoch 6:\n",
      "\n",
      "Training Time per Epoch = 0.30000000000000004s | Training Accuracy = 96.66% | Testing Accuracy = 86.87%\n",
      "---------------------------------------------------------------------------------------------\n",
      "Epoch 7:\n",
      "\n",
      "Training Time per Epoch = 0.32s | Training Accuracy = 97.25% | Testing Accuracy = 88.0%\n",
      "---------------------------------------------------------------------------------------------\n",
      "Epoch 8:\n",
      "\n",
      "Training Time per Epoch = 0.31s | Training Accuracy = 97.0% | Testing Accuracy = 89.0%\n",
      "---------------------------------------------------------------------------------------------\n",
      "Epoch 9:\n",
      "\n",
      "Training Time per Epoch = 0.32s | Training Accuracy = 98.28% | Testing Accuracy = 89.63%\n",
      "---------------------------------------------------------------------------------------------\n",
      "Epoch 10:\n",
      "\n",
      "Training Time per Epoch = 0.34s | Training Accuracy = 98.72% | Testing Accuracy = 89.75%\n",
      "---------------------------------------------------------------------------------------------\n",
      "\n",
      "Total Training Time = 3.87s\n"
     ]
    }
   ],
   "source": [
    "train_model(model_CNN, train_df, \"ClassName\", \"Image\", n_epochs = 10)\n"
   ]
  },
  {
   "cell_type": "markdown",
   "id": "4674b12d",
   "metadata": {
    "deletable": false,
    "editable": false,
    "id": 3
   },
   "source": [
    "### 3.  Test & evaluate the model"
   ]
  },
  {
   "cell_type": "markdown",
   "id": "9b069c07",
   "metadata": {
    "deletable": false,
    "editable": false
   },
   "source": [
    "3.1 Check the accuracy of the model "
   ]
  },
  {
   "cell_type": "code",
   "execution_count": 7,
   "id": "eeb721af",
   "metadata": {
    "scrolled": true
   },
   "outputs": [
    {
     "name": "stdout",
     "output_type": "stream",
     "text": [
      "Size of Testing Data = 1000\n",
      "\n",
      "\n",
      "Number of Epochs = 10\n",
      "\n",
      "\n",
      "\n",
      "\n",
      "Accuracy using Test Data:  87.6 %\n",
      "---------------------------------------------------------------------------------------------\n"
     ]
    }
   ],
   "source": [
    "sim_check_accuracy_image(model_CNN, test_df)"
   ]
  },
  {
   "cell_type": "markdown",
   "id": "9fcb42e6",
   "metadata": {
    "deletable": false,
    "editable": false
   },
   "source": [
    "3.2 Show the learning curve of the model"
   ]
  },
  {
   "cell_type": "code",
   "execution_count": 8,
   "id": "c779807e",
   "metadata": {},
   "outputs": [
    {
     "data": {
      "image/png": "[encoded data removed]",
      "text/plain": [
       "<Figure size 1000x800 with 1 Axes>"
      ]
     },
     "metadata": {},
     "output_type": "display_data"
    },
    {
     "data": {
      "text/plain": [
       "<Figure size 640x480 with 0 Axes>"
      ]
     },
     "metadata": {},
     "output_type": "display_data"
    }
   ],
   "source": [
    "show_learning_curves(model_CNN, train_df)"
   ]
  }
 ],
 "metadata": {
  "kernelspec": {
   "display_name": "Python 3 (ipykernel)",
   "language": "python",
   "name": "python3"
  },
  "language_info": {
   "codemirror_mode": {
    "name": "ipython",
    "version": 3
   },
   "file_extension": ".py",
   "mimetype": "text/x-python",
   "name": "python",
   "nbconvert_exporter": "python",
   "pygments_lexer": "ipython3",
   "version": "3.9.7"
  }
 },
 "nbformat": 4,
 "nbformat_minor": 5
}
