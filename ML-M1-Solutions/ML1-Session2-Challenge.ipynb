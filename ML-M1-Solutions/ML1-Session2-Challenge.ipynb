{
 "cells": [
  {
   "cell_type": "markdown",
   "id": "84b09127",
   "metadata": {
    "deletable": false,
    "editable": false
   },
   "source": [
    "# ML1 - Session 2 - Challenge"
   ]
  },
  {
   "cell_type": "markdown",
   "id": "db31b6fc",
   "metadata": {
    "deletable": false,
    "editable": false
   },
   "source": [
    "## A software devalopment company is working on creating an application for a zoo. The application can recongize animals in the zoo by taking their pictures and then lists a fun fact about them along with a list of the food they like to eat. \n",
    "## The company wants to use machine learning to be able to classify the different types of animals in the zoo. They have been thinking of using a KNN model in their application and they need help with training the model.\n",
    "<img style=\"float: center; /\"  width = \"1000\"  src=\"Notebook Images/ML-M1-Session2-Challenge-Image1.png\"/>\n"
   ]
  },
  {
   "cell_type": "markdown",
   "id": "996db633",
   "metadata": {
    "deletable": false,
    "editable": false
   },
   "source": [
    "## Your task is to train and test a KNN model to classify 4 classes of animals shown below:\n",
    "<img style=\"float: center; /\"  width = \"1000\"  src=\"Notebook Images/ML-M1-Session2-Challenge-Image2.png\"/>\n",
    "\n"
   ]
  },
  {
   "cell_type": "markdown",
   "id": "d7039687",
   "metadata": {
    "deletable": false,
    "editable": false
   },
   "source": [
    "## What you need to do:\n",
    "1. Load and show the animals dataset\n",
    "2. Extract the Aspect Ratio & Fullness features\n",
    "3. Create & train a KNN model using the extracted features\n",
    "4. Test the model & plot the decesion regions"
   ]
  },
  {
   "cell_type": "markdown",
   "id": "a77fdc44",
   "metadata": {
    "deletable": false,
    "editable": false,
    "id": 1
   },
   "source": [
    "### 1. Load and show the animals dataset\n"
   ]
  },
  {
   "cell_type": "markdown",
   "id": "b5b7c10b",
   "metadata": {
    "deletable": false,
    "editable": false
   },
   "source": [
    "1.1 Load the animals dataset"
   ]
  },
  {
   "cell_type": "code",
   "execution_count": 1,
   "id": "ff7c6b6c",
   "metadata": {
    "deletable": false,
    "slideshow": {
     "slide_type": "-"
    },
    "tags": [
     "load"
    ]
   },
   "outputs": [],
   "source": [
    "data_df = load(\"animals\")"
   ]
  },
  {
   "cell_type": "markdown",
   "id": "b50ab5c3",
   "metadata": {
    "deletable": false,
    "editable": false
   },
   "source": [
    "1.2 Show the data in a table"
   ]
  },
  {
   "cell_type": "code",
   "execution_count": 2,
   "id": "ba6e7dae",
   "metadata": {},
   "outputs": [
    {
     "name": "stdout",
     "output_type": "stream",
     "text": [
      "Showing the first 10 rows\n"
     ]
    },
    {
     "data": {
      "application/vnd.jupyter.widget-view+json": {
       "model_id": "4495c70534e6425c9950ae1645ac4084",
       "version_major": 2,
       "version_minor": 0
      },
      "text/plain": [
       "VBox(children=(IntSlider(value=1, description='Page:', max=1, min=1), Button(description='Apply', style=Button…"
      ]
     },
     "metadata": {},
     "output_type": "display_data"
    },
    {
     "data": {
      "text/plain": [
       "<easy_ds.EasyImageDataframe at 0x7f9ec5193fa0>"
      ]
     },
     "execution_count": 2,
     "metadata": {},
     "output_type": "execute_result"
    }
   ],
   "source": [
    "show(data_df)"
   ]
  },
  {
   "cell_type": "markdown",
   "id": "0f12cec2",
   "metadata": {
    "deletable": false,
    "editable": false,
    "id": 2
   },
   "source": [
    "### 2. Extract the Aspect Ratio & Fullness features of the images"
   ]
  },
  {
   "cell_type": "markdown",
   "id": "58e3f622",
   "metadata": {
    "deletable": false,
    "editable": false
   },
   "source": [
    "2.1 Create a function called __*extract\\_feature\\_aspect\\_ratio(row)*__ that takes in row from the table and retrieves the aspect ratio from the image in that row."
   ]
  },
  {
   "cell_type": "code",
   "execution_count": 3,
   "id": "008f48f1",
   "metadata": {},
   "outputs": [],
   "source": [
    "def extract_feature_aspect_ratio(row):\n",
    "    img = get_value(row, \"Image\")\n",
    "    aspect_ratio = get_aspect_ratio(img)\n",
    "    return aspect_ratio"
   ]
  },
  {
   "cell_type": "markdown",
   "id": "9e9bca87",
   "metadata": {
    "deletable": false,
    "editable": false
   },
   "source": [
    "2.2 Apply the defined feature using the __*apply\\_feature(extract\\_feature\\_function, data, name\\_of\\_column)*__ function on the whole data to add an extra column. Put the name of the column. ex: apply_feature(extract_feature_aspect_ratio, data, \"ExampleFeature\")"
   ]
  },
  {
   "cell_type": "code",
   "execution_count": 4,
   "id": "e18f6717",
   "metadata": {},
   "outputs": [],
   "source": [
    "apply_feature(extract_feature_aspect_ratio, data_df, \"Aspect Ratio\")"
   ]
  },
  {
   "cell_type": "markdown",
   "id": "126dbdb5",
   "metadata": {
    "deletable": false,
    "editable": false
   },
   "source": [
    "2.3 Show the data in a table"
   ]
  },
  {
   "cell_type": "code",
   "execution_count": 5,
   "id": "201a5ee7",
   "metadata": {},
   "outputs": [
    {
     "name": "stdout",
     "output_type": "stream",
     "text": [
      "Showing the first 10 rows\n"
     ]
    },
    {
     "data": {
      "application/vnd.jupyter.widget-view+json": {
       "model_id": "190dec47f77744c59a89067fc71c4ff2",
       "version_major": 2,
       "version_minor": 0
      },
      "text/plain": [
       "VBox(children=(IntSlider(value=1, description='Page:', max=1, min=1), Button(description='Apply', style=Button…"
      ]
     },
     "metadata": {},
     "output_type": "display_data"
    },
    {
     "data": {
      "text/plain": [
       "<easy_ds.EasyImageDataframe at 0x7f9ec5193fa0>"
      ]
     },
     "execution_count": 5,
     "metadata": {},
     "output_type": "execute_result"
    }
   ],
   "source": [
    "show(data_df)"
   ]
  },
  {
   "cell_type": "markdown",
   "id": "85294218",
   "metadata": {
    "deletable": false,
    "editable": false
   },
   "source": [
    "2.4 Create a function __*extract\\_feature\\_fullness(row)*__ that takes in a row from the table and retrieves the aspect ratio from the image in that row."
   ]
  },
  {
   "cell_type": "code",
   "execution_count": 6,
   "id": "b0e530bd",
   "metadata": {},
   "outputs": [],
   "source": [
    "def extract_feature_fullness(row):\n",
    "    img = get_value(row, \"Image\")\n",
    "    aspect_ratio = get_fullness(img)\n",
    "    return aspect_ratio"
   ]
  },
  {
   "cell_type": "markdown",
   "id": "4ea00af3",
   "metadata": {
    "deletable": false,
    "editable": false
   },
   "source": [
    "2.5  Apply the defined feature on the whole data to add an extra column."
   ]
  },
  {
   "cell_type": "code",
   "execution_count": 7,
   "id": "7c3a47af",
   "metadata": {},
   "outputs": [],
   "source": [
    "apply_feature(extract_feature_fullness, data_df, \"Fullness\")"
   ]
  },
  {
   "cell_type": "markdown",
   "id": "ddb464db",
   "metadata": {
    "deletable": false,
    "editable": false
   },
   "source": [
    "2.6  Show the data in a table"
   ]
  },
  {
   "cell_type": "code",
   "execution_count": 8,
   "id": "31e5509c",
   "metadata": {},
   "outputs": [
    {
     "name": "stdout",
     "output_type": "stream",
     "text": [
      "Showing the first 10 rows\n"
     ]
    },
    {
     "data": {
      "application/vnd.jupyter.widget-view+json": {
       "model_id": "830d368c47af41348bfbd2a9986a187e",
       "version_major": 2,
       "version_minor": 0
      },
      "text/plain": [
       "VBox(children=(IntSlider(value=1, description='Page:', max=1, min=1), Button(description='Apply', style=Button…"
      ]
     },
     "metadata": {},
     "output_type": "display_data"
    },
    {
     "data": {
      "text/plain": [
       "<easy_ds.EasyImageDataframe at 0x7f9ec5193fa0>"
      ]
     },
     "execution_count": 8,
     "metadata": {},
     "output_type": "execute_result"
    }
   ],
   "source": [
    "show(data_df, 10)"
   ]
  },
  {
   "cell_type": "markdown",
   "id": "c4d9b13f",
   "metadata": {
    "deletable": false,
    "editable": false
   },
   "source": [
    "2.7 Plot the scatter plot of the data"
   ]
  },
  {
   "cell_type": "code",
   "execution_count": 9,
   "id": "3d3ba72c",
   "metadata": {},
   "outputs": [
    {
     "data": {
      "image/png": "[encoded data removed]",
      "text/plain": [
       "<Figure size 640x480 with 1 Axes>"
      ]
     },
     "metadata": {},
     "output_type": "display_data"
    }
   ],
   "source": [
    "plot_scatter(data_df)"
   ]
  },
  {
   "cell_type": "markdown",
   "id": "f3ba9099",
   "metadata": {
    "deletable": false,
    "editable": false,
    "id": 3
   },
   "source": [
    "### 3. Create & train a KNN model using the extracted features"
   ]
  },
  {
   "cell_type": "markdown",
   "id": "79e051ec",
   "metadata": {
    "deletable": false,
    "editable": false
   },
   "source": [
    "3.1 Split the data into training and testing data"
   ]
  },
  {
   "cell_type": "code",
   "execution_count": 10,
   "id": "d19219cd",
   "metadata": {},
   "outputs": [],
   "source": [
    "train_df, test_df = split_table(data_df) "
   ]
  },
  {
   "cell_type": "markdown",
   "id": "b767e48d",
   "metadata": {
    "deletable": false,
    "editable": false
   },
   "source": [
    "3.2 Create a KNN model using the __*create\\_model(model\\_name, args)*__ function and define the number for k"
   ]
  },
  {
   "cell_type": "code",
   "execution_count": 11,
   "id": "73698117",
   "metadata": {},
   "outputs": [],
   "source": [
    "model = create_model(\"knn\", 3)"
   ]
  },
  {
   "cell_type": "markdown",
   "id": "055da3c4",
   "metadata": {
    "deletable": false,
    "editable": false
   },
   "source": [
    "3.3 Fit the model on the training data and define the features used"
   ]
  },
  {
   "cell_type": "code",
   "execution_count": 12,
   "id": "42406d57",
   "metadata": {},
   "outputs": [
    {
     "name": "stdout",
     "output_type": "stream",
     "text": [
      "Execution Time: 0.002706289291381836 seconds\n"
     ]
    }
   ],
   "source": [
    "fit_model(model, train_df, \"Class\", \"Fullness\", \"Aspect Ratio\")"
   ]
  },
  {
   "cell_type": "markdown",
   "id": "3a728288",
   "metadata": {
    "deletable": false,
    "editable": false,
    "id": 4
   },
   "source": [
    "### 4. Test the model & plot the decision regions"
   ]
  },
  {
   "cell_type": "markdown",
   "id": "cfae70cc",
   "metadata": {
    "deletable": false,
    "editable": false
   },
   "source": [
    "4.1 Check the accuracy of the KNN model"
   ]
  },
  {
   "cell_type": "code",
   "execution_count": 13,
   "id": "3935b620",
   "metadata": {},
   "outputs": [
    {
     "name": "stdout",
     "output_type": "stream",
     "text": [
      "For k = 3\n",
      "Accuracy score of the model is: 87.5 %\n",
      "\n",
      "\n"
     ]
    }
   ],
   "source": [
    "check_accuracy(model, test_df)"
   ]
  },
  {
   "cell_type": "markdown",
   "id": "249d7c0d",
   "metadata": {
    "deletable": false,
    "editable": false
   },
   "source": [
    "4.2 Plot the decison regions"
   ]
  },
  {
   "cell_type": "code",
   "execution_count": 14,
   "id": "0bad9327",
   "metadata": {},
   "outputs": [
    {
     "data": {
      "image/png": "[encoded data removed]",
      "text/plain": [
       "<Figure size 1170x827 with 1 Axes>"
      ]
     },
     "metadata": {},
     "output_type": "display_data"
    }
   ],
   "source": [
    "plot_decision_region(model, data_df)"
   ]
  }
 ],
 "metadata": {
  "kernelspec": {
   "display_name": "Python 3 (ipykernel)",
   "language": "python",
   "name": "python3"
  },
  "language_info": {
   "codemirror_mode": {
    "name": "ipython",
    "version": 3
   },
   "file_extension": ".py",
   "mimetype": "text/x-python",
   "name": "python",
   "nbconvert_exporter": "python",
   "pygments_lexer": "ipython3",
   "version": "3.10.10"
  }
 },
 "nbformat": 4,
 "nbformat_minor": 5
}
