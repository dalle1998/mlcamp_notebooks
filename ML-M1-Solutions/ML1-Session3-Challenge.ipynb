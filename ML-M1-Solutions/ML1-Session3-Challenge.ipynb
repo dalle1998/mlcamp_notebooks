{
 "cells": [
  {
   "cell_type": "markdown",
   "id": "2c7b6bf5",
   "metadata": {
    "deletable": false
   },
   "source": [
    "# ML1 - Session 3 - Challenge"
   ]
  },
  {
   "cell_type": "markdown",
   "id": "a9ed4c77",
   "metadata": {
    "deletable": false,
    "editable": false
   },
   "source": [
    "## The devalopment team for the application now wants to add a new class of fish that they can identify. In addition to the previous 4 classes, the data now has the following 5 classes:\n",
    "<img style=\"float: center; /\"  width = \"1000\"  src=\"Notebook Images/ML-M1-Session3-Challenge-Image.png\"/>\n",
    "\n",
    "## The team wants to see if the features are still good enough to classify the 5 classes.\n",
    "## Your task is to try the previous features with this additional class on the same KNN model from last lab. In addition to the accuracy you will need to print the classification report and the confusion matrix.\n",
    "## What you need to do:\n",
    "1. Load & show the new animals dataset\n",
    "2. Extract the Aspect Ratio & Fullness features\n",
    "3. Build & train a KNN model\n",
    "4. Test & evaluate the model"
   ]
  },
  {
   "cell_type": "markdown",
   "id": "6f93f3e0",
   "metadata": {
    "deletable": false,
    "editable": false,
    "id": 1
   },
   "source": [
    "### 1. Load & show the new animals data  "
   ]
  },
  {
   "cell_type": "markdown",
   "id": "de193e97",
   "metadata": {
    "deletable": false,
    "editable": false
   },
   "source": [
    "1.1 Load the new animals dataset. filename = \"animals_new\" "
   ]
  },
  {
   "cell_type": "code",
   "execution_count": 1,
   "id": "f5c39f38",
   "metadata": {},
   "outputs": [],
   "source": [
    "data_df = load(\"animals_new_class\")"
   ]
  },
  {
   "cell_type": "markdown",
   "id": "5cf17f40",
   "metadata": {
    "deletable": false,
    "editable": false
   },
   "source": [
    "1.2 Show the data in a table"
   ]
  },
  {
   "cell_type": "code",
   "execution_count": 2,
   "id": "ec33c028",
   "metadata": {},
   "outputs": [
    {
     "name": "stdout",
     "output_type": "stream",
     "text": [
      "Showing the first 10 rows\n"
     ]
    },
    {
     "data": {
      "application/vnd.jupyter.widget-view+json": {
       "model_id": "d569687f78224752b2ce202808d94d97",
       "version_major": 2,
       "version_minor": 0
      },
      "text/plain": [
       "VBox(children=(IntSlider(value=1, description='Page:', max=1, min=1), Button(description='Apply', style=Button…"
      ]
     },
     "metadata": {},
     "output_type": "display_data"
    },
    {
     "data": {
      "text/plain": [
       "<easy_ds.EasyImageDataframe at 0x7ff13f4b43a0>"
      ]
     },
     "execution_count": 2,
     "metadata": {},
     "output_type": "execute_result"
    }
   ],
   "source": [
    "show(data_df)"
   ]
  },
  {
   "cell_type": "markdown",
   "id": "abfc4a6a",
   "metadata": {
    "deletable": false,
    "editable": false,
    "id": 2
   },
   "source": [
    "### 2. Extract the Aspect Ratio & Fullness features"
   ]
  },
  {
   "cell_type": "markdown",
   "id": "699bbf99",
   "metadata": {
    "deletable": false,
    "editable": false
   },
   "source": [
    "2.1 Extract the Aspect Ratio features"
   ]
  },
  {
   "cell_type": "code",
   "execution_count": 3,
   "id": "8a43d4e4",
   "metadata": {},
   "outputs": [],
   "source": [
    "def extract_feature_aspect_ratio(row):\n",
    "    img = get_value(row, \"Image\")\n",
    "    aspect_ratio = get_aspect_ratio(img)\n",
    "    return aspect_ratio"
   ]
  },
  {
   "cell_type": "markdown",
   "id": "97131af5",
   "metadata": {
    "deletable": false,
    "editable": false
   },
   "source": [
    "2.2 Apply the feature extraction"
   ]
  },
  {
   "cell_type": "code",
   "execution_count": 4,
   "id": "2a5033ec",
   "metadata": {},
   "outputs": [],
   "source": [
    "apply_feature(extract_feature_aspect_ratio, data_df, \"Aspect Ratio\")"
   ]
  },
  {
   "cell_type": "markdown",
   "id": "672b571b",
   "metadata": {
    "deletable": false
   },
   "source": [
    "2.3 Extract the Fullness features "
   ]
  },
  {
   "cell_type": "code",
   "execution_count": 5,
   "id": "c061d956",
   "metadata": {},
   "outputs": [],
   "source": [
    "def extract_feature_fullness(row):\n",
    "    img = get_value(row, \"Image\")\n",
    "    aspect_ratio = get_fullness(img)\n",
    "    return aspect_ratio"
   ]
  },
  {
   "cell_type": "markdown",
   "id": "41b85359",
   "metadata": {
    "deletable": false,
    "editable": false
   },
   "source": [
    "2.4 Apply the feature extraction"
   ]
  },
  {
   "cell_type": "code",
   "execution_count": 6,
   "id": "f971e300",
   "metadata": {},
   "outputs": [],
   "source": [
    "apply_feature(extract_feature_fullness, data_df, \"Fullness\")"
   ]
  },
  {
   "cell_type": "markdown",
   "id": "f7cef79b",
   "metadata": {
    "deletable": false,
    "editable": false
   },
   "source": [
    "2.5 Plot the scatter plot of the data"
   ]
  },
  {
   "cell_type": "code",
   "execution_count": 7,
   "id": "eb92c314",
   "metadata": {},
   "outputs": [
    {
     "data": {
      "image/png": "[encoded data removed]",
      "text/plain": [
       "<Figure size 640x480 with 1 Axes>"
      ]
     },
     "metadata": {},
     "output_type": "display_data"
    }
   ],
   "source": [
    "plot_scatter(data_df)"
   ]
  },
  {
   "cell_type": "markdown",
   "id": "849140d8",
   "metadata": {
    "deletable": false,
    "editable": false,
    "id": 3
   },
   "source": [
    "### 3. Build & train a KNN model"
   ]
  },
  {
   "cell_type": "markdown",
   "id": "32852a84",
   "metadata": {
    "deletable": false,
    "editable": false
   },
   "source": [
    "3.1 Split the data into training and testing"
   ]
  },
  {
   "cell_type": "code",
   "execution_count": 8,
   "id": "38ede329",
   "metadata": {},
   "outputs": [],
   "source": [
    "train_df, test_df = split_table(data_df) "
   ]
  },
  {
   "cell_type": "markdown",
   "id": "15cffd75",
   "metadata": {
    "deletable": false,
    "editable": false
   },
   "source": [
    "3.2 Create a KNN model"
   ]
  },
  {
   "cell_type": "code",
   "execution_count": 9,
   "id": "a74526a5",
   "metadata": {},
   "outputs": [],
   "source": [
    "model = create_model(\"knn\", 3)"
   ]
  },
  {
   "cell_type": "markdown",
   "id": "8d881666",
   "metadata": {
    "deletable": false,
    "editable": false
   },
   "source": [
    "3.3 Fit the KNN model"
   ]
  },
  {
   "cell_type": "code",
   "execution_count": 10,
   "id": "2d85cae4",
   "metadata": {},
   "outputs": [
    {
     "name": "stdout",
     "output_type": "stream",
     "text": [
      "Execution Time: 0.002546548843383789 seconds\n"
     ]
    }
   ],
   "source": [
    "fit_model(model, train_df, \"ClassName\", \"Fullness\", \"Aspect Ratio\")"
   ]
  },
  {
   "cell_type": "markdown",
   "id": "f8e7e5ed",
   "metadata": {
    "deletable": false,
    "editable": false,
    "id": 4
   },
   "source": [
    "### 4. Test & evaluate the model"
   ]
  },
  {
   "cell_type": "markdown",
   "id": "b45925a4",
   "metadata": {
    "deletable": false,
    "editable": false
   },
   "source": [
    "4.1 Check the accuracy of the model"
   ]
  },
  {
   "cell_type": "code",
   "execution_count": 11,
   "id": "8dc4f82e",
   "metadata": {},
   "outputs": [
    {
     "name": "stdout",
     "output_type": "stream",
     "text": [
      "For k = 3\n",
      "Accuracy score of the model is: 60.0 %\n",
      "\n",
      "\n"
     ]
    }
   ],
   "source": [
    "check_accuracy(model, test_df)"
   ]
  },
  {
   "cell_type": "markdown",
   "id": "258ffdc1",
   "metadata": {
    "deletable": false,
    "editable": false
   },
   "source": [
    "4.2 Show the confustion matrix of the model on the testing data using the function __*show\\_confusion\\_matrix(model,testing\\_data)*__. ex: show_confusion_matrix(model, test_df)"
   ]
  },
  {
   "cell_type": "code",
   "execution_count": 12,
   "id": "5b78a879",
   "metadata": {},
   "outputs": [
    {
     "data": {
      "text/plain": [
       "<Axes: >"
      ]
     },
     "metadata": {},
     "output_type": "display_data"
    },
    {
     "data": {
      "image/png": "[encoded data removed]",
      "text/plain": [
       "<Figure size 640x480 with 2 Axes>"
      ]
     },
     "metadata": {},
     "output_type": "display_data"
    }
   ],
   "source": [
    "show_confusion_matrix(model, test_df)"
   ]
  },
  {
   "cell_type": "markdown",
   "id": "c12aba5f",
   "metadata": {
    "deletable": false,
    "editable": false
   },
   "source": [
    "4.3 Show the classification report of the model on the testing data using the function __*show\\_classification\\_report(model, testing\\_data)*__. ex: show_classification_report(model, test_df)"
   ]
  },
  {
   "cell_type": "code",
   "execution_count": 13,
   "id": "82b8fd01",
   "metadata": {},
   "outputs": [
    {
     "name": "stdout",
     "output_type": "stream",
     "text": [
      "For k = 3\n"
     ]
    },
    {
     "data": {
      "text/html": [
       "<table border=\"1\" class=\"dataframe\">\n",
       "  <thead>\n",
       "    <tr style=\"text-align: right;\">\n",
       "      <th></th>\n",
       "      <th>precision</th>\n",
       "      <th>recall</th>\n",
       "    </tr>\n",
       "  </thead>\n",
       "  <tbody>\n",
       "    <tr>\n",
       "      <th>Elephant</th>\n",
       "      <td>1.000000</td>\n",
       "      <td>1.0</td>\n",
       "    </tr>\n",
       "    <tr>\n",
       "      <th>Giraffe</th>\n",
       "      <td>1.000000</td>\n",
       "      <td>1.0</td>\n",
       "    </tr>\n",
       "    <tr>\n",
       "      <th>Perch</th>\n",
       "      <td>0.000000</td>\n",
       "      <td>0.0</td>\n",
       "    </tr>\n",
       "    <tr>\n",
       "      <th>Red Snapper</th>\n",
       "      <td>0.333333</td>\n",
       "      <td>0.5</td>\n",
       "    </tr>\n",
       "    <tr>\n",
       "      <th>Salmon</th>\n",
       "      <td>0.333333</td>\n",
       "      <td>0.5</td>\n",
       "    </tr>\n",
       "  </tbody>\n",
       "</table>"
      ],
      "text/plain": [
       "<IPython.core.display.HTML object>"
      ]
     },
     "metadata": {},
     "output_type": "display_data"
    },
    {
     "name": "stdout",
     "output_type": "stream",
     "text": [
      "\n",
      "\n"
     ]
    }
   ],
   "source": [
    "show_classification_report(model, test_df)"
   ]
  },
  {
   "cell_type": "markdown",
   "id": "f25bf8e7",
   "metadata": {
    "deletable": false,
    "editable": false
   },
   "source": [
    "4.4 Plot the decision regions"
   ]
  },
  {
   "cell_type": "code",
   "execution_count": 14,
   "id": "d78d6016",
   "metadata": {},
   "outputs": [
    {
     "data": {
      "image/png": "[encoded data removed]",
      "text/plain": [
       "<Figure size 1170x827 with 1 Axes>"
      ]
     },
     "metadata": {},
     "output_type": "display_data"
    }
   ],
   "source": [
    "plot_decision_region(model, data_df)"
   ]
  },
  {
   "cell_type": "markdown",
   "id": "ad69770e",
   "metadata": {
    "deletable": false,
    "editable": false
   },
   "source": [
    "### What did you notice?\n",
    "### Which classes seem to have bad metrics?\n",
    "### The model is not doing very well now with the newly added class. We need to try other features that can work better. Another feature we can try is the average of colors for the images."
   ]
  },
  {
   "cell_type": "markdown",
   "id": "9c63ebf8",
   "metadata": {
    "deletable": false,
    "editable": false,
    "id": 5
   },
   "source": [
    "### 5. Extract the average pixel value of each RGB channel"
   ]
  },
  {
   "cell_type": "markdown",
   "id": "a9a5451c",
   "metadata": {
    "deletable": false,
    "editable": false
   },
   "source": [
    "5.1. Create a function called __*extract\\_feature\\_red\\_values(row)*__ that extracts the average red pixel values of each image in each row of the table and returns the average red pixel value of each image. "
   ]
  },
  {
   "cell_type": "code",
   "execution_count": 15,
   "id": "8f2f0341",
   "metadata": {},
   "outputs": [],
   "source": [
    "def extract_feature_red_values(row):\n",
    "    img = get_value(row, \"Image\")\n",
    "    r = get_average_red(img)\n",
    "    return r"
   ]
  },
  {
   "cell_type": "markdown",
   "id": "0001faf8",
   "metadata": {
    "deletable": false,
    "editable": false
   },
   "source": [
    "5.2. Apply the feature on the whole table. Name the new column being added"
   ]
  },
  {
   "cell_type": "code",
   "execution_count": 16,
   "id": "1f984877",
   "metadata": {},
   "outputs": [],
   "source": [
    "apply_feature(extract_feature_red_values, data_df, \"Red\")"
   ]
  },
  {
   "cell_type": "markdown",
   "id": "b33285b6",
   "metadata": {
    "deletable": false,
    "editable": false
   },
   "source": [
    "5.3. Create a function called __*extract\\_feature\\_green\\_values(row)*__ that extracts the average red pixel values of each image in each row of the table. "
   ]
  },
  {
   "cell_type": "code",
   "execution_count": 17,
   "id": "145c9328",
   "metadata": {},
   "outputs": [],
   "source": [
    "def extract_feature_green_values(row):\n",
    "    img = get_value(row, \"Image\")\n",
    "    g = get_average_green(img)\n",
    "    return g"
   ]
  },
  {
   "cell_type": "markdown",
   "id": "5dff57ff",
   "metadata": {
    "deletable": false,
    "editable": false
   },
   "source": [
    "5.4. Apply the feature on the whole table. Name the new column being added"
   ]
  },
  {
   "cell_type": "code",
   "execution_count": 18,
   "id": "3186e1b1",
   "metadata": {},
   "outputs": [],
   "source": [
    "apply_feature(extract_feature_green_values, data_df, \"Green\")"
   ]
  },
  {
   "cell_type": "markdown",
   "id": "f4ac32a9",
   "metadata": {
    "deletable": false,
    "editable": false
   },
   "source": [
    "5.5. Create a function called __*extract\\_feature\\_blue\\_values(row)*__ that extracts the average red pixel values of each image in each row of the table. "
   ]
  },
  {
   "cell_type": "code",
   "execution_count": 19,
   "id": "c7d64b10",
   "metadata": {},
   "outputs": [],
   "source": [
    "def extract_feature_blue_values(row):\n",
    "    img = get_value(row, \"Image\")\n",
    "    b = get_average_blue(img)\n",
    "    return b"
   ]
  },
  {
   "cell_type": "markdown",
   "id": "2795685d",
   "metadata": {
    "deletable": false,
    "editable": false
   },
   "source": [
    "5.6. Apply the feature on the whole table. Name the new column being added"
   ]
  },
  {
   "cell_type": "code",
   "execution_count": 20,
   "id": "2b622bd5",
   "metadata": {},
   "outputs": [],
   "source": [
    "apply_feature(extract_feature_blue_values, data_df, \"Blue\")"
   ]
  },
  {
   "cell_type": "markdown",
   "id": "c39e51d2",
   "metadata": {
    "deletable": false,
    "editable": false
   },
   "source": [
    "5.7 Show the data in a table"
   ]
  },
  {
   "cell_type": "code",
   "execution_count": 21,
   "id": "5e2c1a5a",
   "metadata": {},
   "outputs": [
    {
     "name": "stdout",
     "output_type": "stream",
     "text": [
      "Showing the first 10 rows\n"
     ]
    },
    {
     "data": {
      "application/vnd.jupyter.widget-view+json": {
       "model_id": "b0466efbd38d4066895b8dbe05ef4b43",
       "version_major": 2,
       "version_minor": 0
      },
      "text/plain": [
       "VBox(children=(IntSlider(value=1, description='Page:', max=1, min=1), Button(description='Apply', style=Button…"
      ]
     },
     "metadata": {},
     "output_type": "display_data"
    },
    {
     "data": {
      "text/plain": [
       "<easy_ds.EasyImageDataframe at 0x7ff13f4b43a0>"
      ]
     },
     "execution_count": 21,
     "metadata": {},
     "output_type": "execute_result"
    }
   ],
   "source": [
    "show(data_df)"
   ]
  },
  {
   "cell_type": "markdown",
   "id": "eb8bbfcb",
   "metadata": {
    "deletable": false,
    "editable": false,
    "id": 6
   },
   "source": [
    "### 6. Create & Train a KNN model using the new features"
   ]
  },
  {
   "cell_type": "markdown",
   "id": "61fc5c0e",
   "metadata": {
    "deletable": false,
    "editable": false
   },
   "source": [
    "6.1 Split the data into training and testing"
   ]
  },
  {
   "cell_type": "code",
   "execution_count": 22,
   "id": "ea9d8243",
   "metadata": {},
   "outputs": [],
   "source": [
    "train_df, test_df = split_table(data_df) "
   ]
  },
  {
   "cell_type": "markdown",
   "id": "42a9c1ee",
   "metadata": {
    "deletable": false,
    "editable": false
   },
   "source": [
    "6.2 Show the data in a table"
   ]
  },
  {
   "cell_type": "code",
   "execution_count": 23,
   "id": "9392e22d",
   "metadata": {},
   "outputs": [
    {
     "name": "stdout",
     "output_type": "stream",
     "text": [
      "Showing the first 10 rows\n"
     ]
    },
    {
     "data": {
      "application/vnd.jupyter.widget-view+json": {
       "model_id": "6933c50e96f14599906ae32b78034bd4",
       "version_major": 2,
       "version_minor": 0
      },
      "text/plain": [
       "VBox(children=(IntSlider(value=1, description='Page:', max=1, min=1), Button(description='Apply', style=Button…"
      ]
     },
     "metadata": {},
     "output_type": "display_data"
    },
    {
     "data": {
      "text/plain": [
       "<easy_ds.EasyImageDataframe at 0x7ff13c977610>"
      ]
     },
     "execution_count": 23,
     "metadata": {},
     "output_type": "execute_result"
    }
   ],
   "source": [
    "show(test_df)"
   ]
  },
  {
   "cell_type": "markdown",
   "id": "44e2af28",
   "metadata": {
    "deletable": false,
    "editable": false
   },
   "source": [
    "6.3 Create a KNN model "
   ]
  },
  {
   "cell_type": "code",
   "execution_count": 24,
   "id": "6e3733a5",
   "metadata": {},
   "outputs": [],
   "source": [
    "model_2 = create_model(\"knn\",3)"
   ]
  },
  {
   "cell_type": "markdown",
   "id": "c6421bff",
   "metadata": {
    "deletable": false,
    "editable": false
   },
   "source": [
    "6.4 Fit the KNN model"
   ]
  },
  {
   "cell_type": "code",
   "execution_count": 25,
   "id": "0aea4e3f",
   "metadata": {},
   "outputs": [
    {
     "name": "stdout",
     "output_type": "stream",
     "text": [
      "Execution Time: 0.0021517276763916016 seconds\n"
     ]
    }
   ],
   "source": [
    "fit_model(model_2, train_df, \"ClassName\",\"Aspect Ratio\",\"Fullness\",\"Red\", \"Green\", \"Blue\")"
   ]
  },
  {
   "cell_type": "markdown",
   "id": "e2f9e956",
   "metadata": {
    "deletable": false,
    "editable": false
   },
   "source": [
    "6.5 Check the accuracy of the model"
   ]
  },
  {
   "cell_type": "code",
   "execution_count": 26,
   "id": "3c8009f6",
   "metadata": {},
   "outputs": [
    {
     "name": "stdout",
     "output_type": "stream",
     "text": [
      "For k = 3\n",
      "Accuracy score of the model is: 90.0 %\n",
      "\n",
      "\n"
     ]
    }
   ],
   "source": [
    "check_accuracy(model_2, test_df)"
   ]
  },
  {
   "cell_type": "markdown",
   "id": "fe899059",
   "metadata": {
    "deletable": false,
    "editable": false
   },
   "source": [
    "6.6 Show the classifcation report"
   ]
  },
  {
   "cell_type": "code",
   "execution_count": 27,
   "id": "96442c4f",
   "metadata": {},
   "outputs": [
    {
     "name": "stdout",
     "output_type": "stream",
     "text": [
      "For k = 3\n"
     ]
    },
    {
     "data": {
      "text/html": [
       "<table border=\"1\" class=\"dataframe\">\n",
       "  <thead>\n",
       "    <tr style=\"text-align: right;\">\n",
       "      <th></th>\n",
       "      <th>precision</th>\n",
       "      <th>recall</th>\n",
       "    </tr>\n",
       "  </thead>\n",
       "  <tbody>\n",
       "    <tr>\n",
       "      <th>Elephant</th>\n",
       "      <td>1.000000</td>\n",
       "      <td>1.0</td>\n",
       "    </tr>\n",
       "    <tr>\n",
       "      <th>Giraffe</th>\n",
       "      <td>0.666667</td>\n",
       "      <td>1.0</td>\n",
       "    </tr>\n",
       "    <tr>\n",
       "      <th>Perch</th>\n",
       "      <td>1.000000</td>\n",
       "      <td>1.0</td>\n",
       "    </tr>\n",
       "    <tr>\n",
       "      <th>Red Snapper</th>\n",
       "      <td>1.000000</td>\n",
       "      <td>1.0</td>\n",
       "    </tr>\n",
       "    <tr>\n",
       "      <th>Salmon</th>\n",
       "      <td>1.000000</td>\n",
       "      <td>0.5</td>\n",
       "    </tr>\n",
       "  </tbody>\n",
       "</table>"
      ],
      "text/plain": [
       "<IPython.core.display.HTML object>"
      ]
     },
     "metadata": {},
     "output_type": "display_data"
    },
    {
     "name": "stdout",
     "output_type": "stream",
     "text": [
      "\n",
      "\n"
     ]
    }
   ],
   "source": [
    "show_classification_report(model_2, test_df)"
   ]
  },
  {
   "cell_type": "markdown",
   "id": "8b9e97cc",
   "metadata": {
    "deletable": false,
    "editable": false
   },
   "source": [
    "6.7 Show the confusion matrix"
   ]
  },
  {
   "cell_type": "code",
   "execution_count": 28,
   "id": "a6fa5b4d",
   "metadata": {
    "tags": []
   },
   "outputs": [
    {
     "data": {
      "text/plain": [
       "<Axes: >"
      ]
     },
     "metadata": {},
     "output_type": "display_data"
    },
    {
     "data": {
      "image/png": "[encoded data removed]",
      "text/plain": [
       "<Figure size 1170x827 with 2 Axes>"
      ]
     },
     "metadata": {},
     "output_type": "display_data"
    }
   ],
   "source": [
    "show_confusion_matrix(model_2, test_df)"
   ]
  }
 ],
 "metadata": {
  "kernelspec": {
   "display_name": "Python 3 (ipykernel)",
   "language": "python",
   "name": "python3"
  },
  "language_info": {
   "codemirror_mode": {
    "name": "ipython",
    "version": 3
   },
   "file_extension": ".py",
   "mimetype": "text/x-python",
   "name": "python",
   "nbconvert_exporter": "python",
   "pygments_lexer": "ipython3",
   "version": "3.10.10"
  }
 },
 "nbformat": 4,
 "nbformat_minor": 5
}
