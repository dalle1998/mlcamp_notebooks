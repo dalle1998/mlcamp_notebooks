{
 "cells": [
  {
   "cell_type": "markdown",
   "id": "e408f50d",
   "metadata": {
    "deletable": false,
    "editable": false
   },
   "source": [
    "# ML1 - Session 1 - Challenge"
   ]
  },
  {
   "cell_type": "markdown",
   "id": "88359e05",
   "metadata": {
    "deletable": false,
    "editable": false
   },
   "source": [
    "## In the same fruit packaging factory we have seen before, they want to start packaging new fruits. They added oranges and lemons to the assembly line and the machine now has to distinguish oranges from lemons using the width and height features as well. \n",
    "<img style=\"float: center; /\"  width = \"1000\"  src=\"Notebook Images/ML-M1-Session1-Challenge-Image.png\">\n",
    "\n",
    "## Your task in this lab is to build a classifier that will distinguish an orange and a lemon based on the width and height of the fruit. \n",
    "## What you need to do: <br>\n",
    "1. Load & show the lemons and oranges dataset\n",
    "2. Create & train the linear classifier model\n",
    "3. Test & evaluate the linear classifier model\n",
    "4. Build & train the Logistic Regression model with different orders\n",
    "5. Test & evaluate the Logistic Regression model"
   ]
  },
  {
   "cell_type": "markdown",
   "id": "dc993c14",
   "metadata": {
    "deletable": false,
    "editable": false,
    "id": 1
   },
   "source": [
    "### 1. Load & show the lemons and oranges dataset"
   ]
  },
  {
   "cell_type": "markdown",
   "id": "798f2d00",
   "metadata": {
    "deletable": false,
    "editable": false
   },
   "source": [
    "1.1 Load the lemons and oranges dataset into a variable"
   ]
  },
  {
   "cell_type": "code",
   "execution_count": null,
   "id": "efe1faa9",
   "metadata": {},
   "outputs": [],
   "source": []
  },
  {
   "cell_type": "markdown",
   "id": "d27974c0",
   "metadata": {
    "deletable": false,
    "editable": false
   },
   "source": [
    "1.2 Show the first 10 entries of the data in a table format"
   ]
  },
  {
   "cell_type": "code",
   "execution_count": null,
   "id": "27690ad1",
   "metadata": {},
   "outputs": [],
   "source": []
  },
  {
   "cell_type": "markdown",
   "id": "81350f0b",
   "metadata": {
    "deletable": false,
    "editable": false
   },
   "source": [
    "1.3 Plot the scatter plot of the data"
   ]
  },
  {
   "cell_type": "code",
   "execution_count": null,
   "id": "572809d7",
   "metadata": {},
   "outputs": [],
   "source": []
  },
  {
   "cell_type": "markdown",
   "id": "de6f0b83",
   "metadata": {
    "deletable": false,
    "editable": false,
    "id": 2
   },
   "source": [
    "### 2. Create & train the linear classifier model"
   ]
  },
  {
   "cell_type": "markdown",
   "id": "c7d335a4",
   "metadata": {
    "deletable": false,
    "editable": false
   },
   "source": [
    "2.1 Define a function __*classify(x, y)*__ that takes in the width x and height y of the unknown fruit and returns the name: \"Orange\" or \"Lemon\""
   ]
  },
  {
   "cell_type": "code",
   "execution_count": null,
   "id": "94efd10c",
   "metadata": {},
   "outputs": [],
   "source": [
    "def classify(x, y):\n",
    "    # Define two points to draw the line on\n",
    "\n",
    "    # Using the two points, form the boundary.\n",
    "    "
   ]
  },
  {
   "cell_type": "markdown",
   "id": "c02b3bde",
   "metadata": {
    "deletable": false,
    "editable": false
   },
   "source": [
    "2.2 Create a linear classifier "
   ]
  },
  {
   "cell_type": "code",
   "execution_count": null,
   "id": "fda74317",
   "metadata": {},
   "outputs": [],
   "source": []
  },
  {
   "cell_type": "markdown",
   "id": "a0abbab0",
   "metadata": {
    "deletable": false,
    "editable": false
   },
   "source": [
    "2.3 Split the data into training and testing data"
   ]
  },
  {
   "cell_type": "code",
   "execution_count": null,
   "id": "efe2e514",
   "metadata": {},
   "outputs": [],
   "source": []
  },
  {
   "cell_type": "markdown",
   "id": "2562a9d6",
   "metadata": {
    "deletable": false,
    "editable": false
   },
   "source": [
    "2.4 Fit the model on the training data"
   ]
  },
  {
   "cell_type": "code",
   "execution_count": null,
   "id": "a408e9f2",
   "metadata": {},
   "outputs": [],
   "source": []
  },
  {
   "cell_type": "markdown",
   "id": "9102d0ab",
   "metadata": {
    "deletable": false,
    "editable": false,
    "id": 3
   },
   "source": [
    "### 3. Test & evaluate the linear calssifier model"
   ]
  },
  {
   "cell_type": "markdown",
   "id": "88b3b135",
   "metadata": {
    "deletable": false,
    "editable": false
   },
   "source": [
    "3.1 Check the accuracy of the model"
   ]
  },
  {
   "cell_type": "code",
   "execution_count": null,
   "id": "7f3a18cd",
   "metadata": {},
   "outputs": [],
   "source": []
  },
  {
   "cell_type": "markdown",
   "id": "53ec893a",
   "metadata": {
    "deletable": false,
    "editable": false
   },
   "source": [
    "3.2 Plot the decision region"
   ]
  },
  {
   "cell_type": "code",
   "execution_count": null,
   "id": "d6f168da",
   "metadata": {},
   "outputs": [],
   "source": []
  },
  {
   "cell_type": "markdown",
   "id": "10b24d3e",
   "metadata": {
    "deletable": false,
    "editable": false,
    "id": 4
   },
   "source": [
    "### 4. Create & train the Logistic Regression model with different orders"
   ]
  },
  {
   "cell_type": "markdown",
   "id": "6dc16e19",
   "metadata": {
    "deletable": false,
    "editable": false
   },
   "source": [
    "4.1 Create a Logistic Regression model and choose the order of the curve using the __*create\\_model(model_name, args)*__ function. ex: create_model(\"LogisticRegression\", 2)"
   ]
  },
  {
   "cell_type": "code",
   "execution_count": null,
   "id": "5fc43543",
   "metadata": {},
   "outputs": [],
   "source": []
  },
  {
   "cell_type": "markdown",
   "id": "5bbb7a05",
   "metadata": {
    "deletable": false,
    "editable": false
   },
   "source": [
    "4.2 Fit the model using the training data"
   ]
  },
  {
   "cell_type": "code",
   "execution_count": null,
   "id": "5f7d6b51",
   "metadata": {},
   "outputs": [],
   "source": []
  },
  {
   "cell_type": "markdown",
   "id": "e5941f49",
   "metadata": {
    "deletable": false,
    "editable": false,
    "id": 5
   },
   "source": [
    "### 5. Test & evaluate the Logistic Regression model "
   ]
  },
  {
   "cell_type": "markdown",
   "id": "8b47b437",
   "metadata": {
    "deletable": false,
    "editable": false
   },
   "source": [
    "5.1 Check the accuracy of the model"
   ]
  },
  {
   "cell_type": "code",
   "execution_count": null,
   "id": "c375dd17",
   "metadata": {},
   "outputs": [],
   "source": []
  },
  {
   "cell_type": "markdown",
   "id": "417b991a",
   "metadata": {
    "deletable": false,
    "editable": false
   },
   "source": [
    "5.2 Plot the decision region"
   ]
  },
  {
   "cell_type": "code",
   "execution_count": null,
   "id": "6ceb2bb3",
   "metadata": {
    "tags": []
   },
   "outputs": [],
   "source": []
  }
 ],
 "metadata": {
  "kernelspec": {
   "display_name": "Python 3 (ipykernel)",
   "language": "python",
   "name": "python3"
  },
  "language_info": {
   "codemirror_mode": {
    "name": "ipython",
    "version": 3
   },
   "file_extension": ".py",
   "mimetype": "text/x-python",
   "name": "python",
   "nbconvert_exporter": "python",
   "pygments_lexer": "ipython3",
   "version": "3.10.10"
  }
 },
 "nbformat": 4,
 "nbformat_minor": 5
}
