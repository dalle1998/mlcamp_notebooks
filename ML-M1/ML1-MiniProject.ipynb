{
 "cells": [
  {
   "cell_type": "markdown",
   "id": "f8058898-9837-4598-b17b-710eb27de37d",
   "metadata": {
    "deletable": false,
    "tags": []
   },
   "source": [
    "# ML1 - Mini-Project"
   ]
  },
  {
   "cell_type": "markdown",
   "id": "78b17e07-d98f-4568-8189-d24b7db400f4",
   "metadata": {
    "deletable": false,
    "tags": []
   },
   "source": [
    "A grocery shop downtown wants to make its store smarter. It wants to integrate personalized discounts for its customers at the self-checkout counters. In order to achieve that, the store wants to integrate a machine learning algorithm that can detect the age & gender of the customer in order to recommend discounts on respective items.For example, if the customer was a woman, the system wants to offer discounts on female related items such as make-up & female perfume.\n",
    "<div style = \"display: flex\">\n",
    "  <div >\n",
    "    <img  width = \"970\"  src=\"Notebook Images/ML-M1-Mini-Project-Image1.jpg\"/>\n",
    "  </div>\n",
    "  <div>\n",
    "    <img  style = \"padding-left: 20px\" width = \"800\"  src=\"Notebook Images/ML-M1-Mini-Project-Image2.jpg\"/>\n",
    "  </div>\n",
    "</div>\n",
    "\n",
    "## Our job is to train a KNN model on the available faces dataset & use it for the shop's personalized discount system\n",
    "## What you need to do:\n",
    "1. Load & show the faces dataset\n",
    "2. Build & train 2 KNN models on all the images of the dataset\n",
    "3. Test the model on 12 customers and issue the correct discount for each"
   ]
  },
  {
   "cell_type": "markdown",
   "id": "837be3c9-565e-4d03-a3d8-3bddc66625b6",
   "metadata": {
    "deletable": false,
    "editable": false,
    "tags": []
   },
   "source": [
    "### 1. Load & show the faces dataset"
   ]
  },
  {
   "cell_type": "markdown",
   "id": "3e1e231b-cce8-430b-a230-4a01eb22d64a",
   "metadata": {
    "deletable": false,
    "tags": []
   },
   "source": [
    "1.1 Load the faces dataset. filename = \"faces_shopping\" "
   ]
  },
  {
   "cell_type": "code",
   "execution_count": null,
   "id": "24dc7972-cc32-489f-9c81-1aa5b4c358fc",
   "metadata": {
    "tags": []
   },
   "outputs": [],
   "source": []
  },
  {
   "cell_type": "markdown",
   "id": "463d61b2-3f5a-4258-bea0-5393e710e52c",
   "metadata": {
    "deletable": false,
    "tags": []
   },
   "source": [
    "1.2 Show using the function __*show()*__. "
   ]
  },
  {
   "cell_type": "code",
   "execution_count": null,
   "id": "6601367b-14d2-4c4b-b42f-7711b960c95f",
   "metadata": {
    "tags": []
   },
   "outputs": [],
   "source": []
  },
  {
   "cell_type": "markdown",
   "id": "bb612a13-4493-44a9-9582-19b6c2b69b68",
   "metadata": {
    "deletable": false,
    "tags": []
   },
   "source": [
    "### 2. Build & train 2 KNN Models"
   ]
  },
  {
   "cell_type": "markdown",
   "id": "0a251403-8945-4e89-ad6e-8fe863736dcf",
   "metadata": {},
   "source": [
    "Create & traing 2 KNN models: 1 model predicts the gender of the person based on their image, and the other model predicts the age category of the person based on their image."
   ]
  },
  {
   "cell_type": "markdown",
   "id": "bfdfe391-fcac-4370-980b-e5053cd3a17c",
   "metadata": {
    "deletable": false,
    "editable": false,
    "tags": []
   },
   "source": [
    "2.1 Split the dataset"
   ]
  },
  {
   "cell_type": "code",
   "execution_count": null,
   "id": "fb593657-2fba-4e1e-aa9d-0b247079c70a",
   "metadata": {
    "tags": []
   },
   "outputs": [],
   "source": []
  },
  {
   "cell_type": "markdown",
   "id": "985be28b-dda6-4619-a734-f66c33ffea91",
   "metadata": {
    "deletable": false,
    "tags": []
   },
   "source": [
    "2.2  Create a KNN Model for prediciting the gender of the person and specify the number of neighbors"
   ]
  },
  {
   "cell_type": "code",
   "execution_count": null,
   "id": "ef255c37-cb6a-42fa-870a-f43fbe44af5c",
   "metadata": {
    "tags": []
   },
   "outputs": [],
   "source": []
  },
  {
   "cell_type": "markdown",
   "id": "7626b075-05d3-4bff-9176-5eefe748c744",
   "metadata": {
    "deletable": false,
    "editable": false,
    "tags": []
   },
   "source": [
    "2.3 Train the KNN Model"
   ]
  },
  {
   "cell_type": "code",
   "execution_count": null,
   "id": "90523f56-0fda-4a8b-b648-bd4dadde5c0d",
   "metadata": {
    "tags": []
   },
   "outputs": [],
   "source": []
  },
  {
   "cell_type": "markdown",
   "id": "52314663-8576-4775-8f4a-ef67f0fd48e8",
   "metadata": {
    "deletable": false,
    "editable": false,
    "tags": []
   },
   "source": [
    "2.4 Test the KNN Model"
   ]
  },
  {
   "cell_type": "code",
   "execution_count": null,
   "id": "86369f42-1f1e-4fc6-a0a3-fca2001dadbe",
   "metadata": {
    "tags": []
   },
   "outputs": [],
   "source": []
  },
  {
   "cell_type": "markdown",
   "id": "ac16b660-6dd5-4c98-a9da-a1b903b45863",
   "metadata": {
    "deletable": false,
    "tags": []
   },
   "source": [
    "2.5 Show the confusion matrix"
   ]
  },
  {
   "cell_type": "code",
   "execution_count": null,
   "id": "dd36520e-efe7-4595-bc76-653999b230b7",
   "metadata": {
    "tags": []
   },
   "outputs": [],
   "source": []
  },
  {
   "cell_type": "markdown",
   "id": "3098d4f0-5257-4d91-a550-22122947d0e3",
   "metadata": {},
   "source": [
    "Repeats steps 2.2 - 2.5 for the other KNN model to detect the age category of the person"
   ]
  },
  {
   "cell_type": "code",
   "execution_count": null,
   "id": "acf13643-a639-4f24-a634-e39ed2a3c808",
   "metadata": {},
   "outputs": [],
   "source": []
  },
  {
   "cell_type": "code",
   "execution_count": null,
   "id": "b09df20e-464e-44fc-af4c-4a8699d7eaa6",
   "metadata": {},
   "outputs": [],
   "source": []
  },
  {
   "cell_type": "code",
   "execution_count": null,
   "id": "2b068590-3f84-45fc-95af-fb742e7ddb5e",
   "metadata": {},
   "outputs": [],
   "source": []
  },
  {
   "cell_type": "code",
   "execution_count": null,
   "id": "4a4beab7-9775-4b02-9024-27f0cbb13495",
   "metadata": {},
   "outputs": [],
   "source": []
  },
  {
   "cell_type": "markdown",
   "id": "3801f3c0-33e4-4b4c-9977-80de202b1f22",
   "metadata": {
    "deletable": false,
    "tags": []
   },
   "source": [
    "## 3. Test the model on the 12 customers. Identify the appropriate discounts based on the results of your model."
   ]
  },
  {
   "cell_type": "markdown",
   "id": "e72f18f9-9ea6-49eb-9a16-ca9a7adbe89a",
   "metadata": {},
   "source": [
    "Show a dropdown for the list of customer images that will be used for testing using the function __*show_customers()*__. This will allow you to select the image name for the next cell."
   ]
  },
  {
   "cell_type": "code",
   "execution_count": null,
   "id": "dc66e8c9-dd01-4097-85c1-3a2e434fcad6",
   "metadata": {},
   "outputs": [],
   "source": []
  },
  {
   "cell_type": "markdown",
   "id": "9b550d42-73fa-4b61-a5ca-90608412f5c1",
   "metadata": {},
   "source": [
    "Predict the gender & age category of the selected image using the function __*predict_customers(model)*__ where model is the KNN model that was trained previously."
   ]
  },
  {
   "cell_type": "code",
   "execution_count": null,
   "id": "f98846e3-396c-4c64-ba56-102a2f657472",
   "metadata": {},
   "outputs": [],
   "source": []
  }
 ],
 "metadata": {
  "kernelspec": {
   "display_name": "Python 3 (ipykernel)",
   "language": "python",
   "name": "python3"
  },
  "language_info": {
   "codemirror_mode": {
    "name": "ipython",
    "version": 3
   },
   "file_extension": ".py",
   "mimetype": "text/x-python",
   "name": "python",
   "nbconvert_exporter": "python",
   "pygments_lexer": "ipython3",
   "version": "3.10.10"
  }
 },
 "nbformat": 4,
 "nbformat_minor": 5
}
