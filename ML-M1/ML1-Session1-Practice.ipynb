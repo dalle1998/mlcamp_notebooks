{
 "cells": [
  {
   "cell_type": "markdown",
   "id": "4a542126",
   "metadata": {
    "deletable": false
   },
   "source": [
    "# ML1 - Session 1 - Practice"
   ]
  },
  {
   "cell_type": "markdown",
   "id": "79064be7",
   "metadata": {
    "deletable": false,
    "editable": false,
    "tags": []
   },
   "source": [
    "## In a fruit packaging factory, workers manually need to sort apples and bananas into their respective boxes in order to be shipped. The work at the assembly line can be very tiring for the workers, so the factory decided to bring a machine that can measure the width and height of the fruits on the assembly line in order to help out in the process. The machine, however, does not yet know how to classify the fruits based on these features.<br> \n",
    "<img style=\"float: center; /\"  width = \"1000\"  src=\"Notebook Images/ML-M1-Session1-Practice-Image.png\">\n",
    "<br> \n",
    "\n",
    "## Your task is to develop a machine learning program that can classify apples and bananas so it can sort them out into different packages for shipping. <br>\n",
    "## What you need to do: \n",
    "1. Load & show the apples and bananas data \n",
    "2. Show the data\n",
    "3. Split the data <br>\n",
    "4. Create & train the linear classifer model <br>\n",
    "5. Test & evaluate the linear classifer model <br>"
   ]
  },
  {
   "cell_type": "markdown",
   "id": "d1b6149e",
   "metadata": {
    "deletable": false,
    "editable": false,
    "id": 1
   },
   "source": [
    "### 1. Load & show the apples and bananas data"
   ]
  },
  {
   "cell_type": "markdown",
   "id": "acac66f7",
   "metadata": {
    "deletable": false,
    "editable": false
   },
   "source": [
    "1.1 Load the apples and bananas dataset. filename = \"applesandbananas\""
   ]
  },
  {
   "cell_type": "code",
   "execution_count": null,
   "id": "88e999f0",
   "metadata": {},
   "outputs": [],
   "source": []
  },
  {
   "cell_type": "markdown",
   "id": "e1a10212",
   "metadata": {
    "deletable": false,
    "editable": false,
    "id": 2
   },
   "source": [
    "### 2. Show the data "
   ]
  },
  {
   "cell_type": "markdown",
   "id": "68e5c79b",
   "metadata": {
    "deletable": false,
    "editable": false
   },
   "source": [
    "2.1 Show the data in a table"
   ]
  },
  {
   "cell_type": "code",
   "execution_count": null,
   "id": "266c7af2",
   "metadata": {},
   "outputs": [],
   "source": []
  },
  {
   "cell_type": "markdown",
   "id": "2a684157",
   "metadata": {
    "deletable": false,
    "editable": false
   },
   "source": [
    "2.2 Show the data in a scatter plot"
   ]
  },
  {
   "cell_type": "code",
   "execution_count": null,
   "id": "efafd4dd",
   "metadata": {},
   "outputs": [],
   "source": []
  },
  {
   "cell_type": "markdown",
   "id": "2e8d7f5e",
   "metadata": {
    "deletable": false,
    "editable": false,
    "id": 3
   },
   "source": [
    "### 3. Split the data"
   ]
  },
  {
   "cell_type": "markdown",
   "id": "48305f81",
   "metadata": {
    "deletable": false,
    "editable": false
   },
   "source": [
    "3.1 Split the data into training and testing data using the function __*split\\_table(data)*__. The function returns two values: training data and testing data. ex: train_data, test_data = split_table(data_df) "
   ]
  },
  {
   "cell_type": "code",
   "execution_count": null,
   "id": "60acb221",
   "metadata": {},
   "outputs": [],
   "source": []
  },
  {
   "cell_type": "markdown",
   "id": "e09e9523",
   "metadata": {
    "deletable": false,
    "editable": false,
    "id": 4
   },
   "source": [
    "### 4. Create & train the model"
   ]
  },
  {
   "cell_type": "markdown",
   "id": "329e167e",
   "metadata": {
    "deletable": false,
    "editable": false
   },
   "source": [
    "4.1 Define a function __*classify(x, y)*__ that takes in the width and height of a fruit and returns \"Apple\" or \"Banana\" "
   ]
  },
  {
   "cell_type": "code",
   "execution_count": null,
   "id": "72d3b9bc",
   "metadata": {},
   "outputs": [],
   "source": [
    "def classify(x, y):\n",
    "    # Define two points on the graph to draw the line using them\n",
    "    \n",
    "    # Write the equation of the line and determine the regions for each class\n",
    "   "
   ]
  },
  {
   "cell_type": "markdown",
   "id": "5b2db4a1",
   "metadata": {
    "deletable": false,
    "editable": false
   },
   "source": [
    "4.2 Create a linear classifier using the function __*create\\_model(model\\_name, args)*__. ex: create_model(\"LinearClassifier\", classify)"
   ]
  },
  {
   "cell_type": "code",
   "execution_count": null,
   "id": "fe8cec65",
   "metadata": {},
   "outputs": [],
   "source": []
  },
  {
   "cell_type": "markdown",
   "id": "96ad8335",
   "metadata": {
    "deletable": false,
    "editable": false
   },
   "source": [
    "4.3 Fit the model using the functon __*fit\\_model(model\\_name, training\\_data, name\\_of\\_target\\_column, name\\_of\\_features\\_column,...)*__. ex: fit_model(model, train_df, \"Class\", \"Width\", \"Height\")"
   ]
  },
  {
   "cell_type": "code",
   "execution_count": null,
   "id": "377326f6",
   "metadata": {},
   "outputs": [],
   "source": []
  },
  {
   "cell_type": "markdown",
   "id": "beda3730",
   "metadata": {
    "deletable": false,
    "editable": false,
    "id": 5
   },
   "source": [
    "### 5. Test & evaluate the model"
   ]
  },
  {
   "cell_type": "markdown",
   "id": "563d6ad1",
   "metadata": {
    "deletable": false,
    "editable": false
   },
   "source": [
    "5.1 Check the accuracy of your model using the functon __*check\\_accuracy(model, testing_data)*__. ex: check_accuracy(model, test_df)"
   ]
  },
  {
   "cell_type": "code",
   "execution_count": null,
   "id": "e27f0ef8",
   "metadata": {},
   "outputs": [],
   "source": []
  },
  {
   "cell_type": "markdown",
   "id": "6210bbde",
   "metadata": {
    "deletable": false,
    "editable": false
   },
   "source": [
    "5.2 Plot the decision region using the function __*plot\\_decision\\_region(model, data)*__. ex: plot_decision_region(model, data_df)"
   ]
  },
  {
   "cell_type": "code",
   "execution_count": null,
   "id": "41379065",
   "metadata": {
    "tags": []
   },
   "outputs": [],
   "source": []
  }
 ],
 "metadata": {
  "kernelspec": {
   "display_name": "Python 3 (ipykernel)",
   "language": "python",
   "name": "python3"
  },
  "language_info": {
   "codemirror_mode": {
    "name": "ipython",
    "version": 3
   },
   "file_extension": ".py",
   "mimetype": "text/x-python",
   "name": "python",
   "nbconvert_exporter": "python",
   "pygments_lexer": "ipython3",
   "version": "3.10.10"
  }
 },
 "nbformat": 4,
 "nbformat_minor": 5
}
