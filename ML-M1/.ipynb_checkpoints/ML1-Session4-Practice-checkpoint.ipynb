{
 "cells": [
  {
   "cell_type": "markdown",
   "id": "dfe04f44",
   "metadata": {
    "deletable": false,
    "editable": false
   },
   "source": [
    "# ML1 - Session 4 - Practice"
   ]
  },
  {
   "cell_type": "markdown",
   "id": "1b615e02",
   "metadata": {
    "deletable": false,
    "editable": false
   },
   "source": [
    "## The software devalopment team for the animal identification app now want to design the frontend of the application. After training and testing the ML model we can load it again in this Notebook and link it to the application.\n",
    "<img style=\"float: center; /\"  width = \"1000\"  src=\"Notebook Images/ML-M1-Session4-Practice-Image.png\"/>\n",
    "\n",
    "## Your task is to design a GUI for the application that includes:\n",
    "1. A main layout consisting of header, body and footer\n",
    "2. A title \n",
    "3. A load image button\n",
    "4. A Predict image button\n"
   ]
  },
  {
   "cell_type": "markdown",
   "id": "50bc2216",
   "metadata": {
    "deletable": false,
    "editable": false,
    "id": 1
   },
   "source": [
    "### 1. Load the ML model "
   ]
  },
  {
   "cell_type": "markdown",
   "id": "6bb8c584",
   "metadata": {
    "deletable": false,
    "editable": false
   },
   "source": [
    "1.1 Call the function __*load\\_model(model\\_name)*__ that takes in the name of the model and loads into the notebook. The model name is \"animals_model\".ex: model = load_model(\"animals_model\")"
   ]
  },
  {
   "cell_type": "code",
   "execution_count": null,
   "id": "f991bb58",
   "metadata": {},
   "outputs": [],
   "source": []
  },
  {
   "cell_type": "markdown",
   "id": "57f3c1ea",
   "metadata": {
    "deletable": false,
    "editable": false,
    "id": 2
   },
   "source": [
    "### 2. Design the GUI"
   ]
  },
  {
   "cell_type": "markdown",
   "id": "167bb5bf",
   "metadata": {
    "deletable": false,
    "editable": false
   },
   "source": [
    "2.1 Create the main layout of your application using the function __*start\\_layout(header\\_size, body\\_size, footer\\_size)*__. The size is measured in __percentage__. ex: layout = start_layout(\"30%\",\"70%\",\"20%\")"
   ]
  },
  {
   "cell_type": "code",
   "execution_count": null,
   "id": "53b1d800",
   "metadata": {},
   "outputs": [],
   "source": []
  },
  {
   "cell_type": "markdown",
   "id": "612dc719",
   "metadata": {
    "deletable": false,
    "editable": false
   },
   "source": [
    "2.2 Create a title element using the function __*create\\_title\\_text(description = \"\", size = \"\", height = \"\")*__. The unit for the size is in __pt__. and the height is the height of the box in __percentage__. \n",
    "ex: title = create_title_text(description = \"Animal Classifier\", size = \"30pt\", height = \"80%\")"
   ]
  },
  {
   "cell_type": "code",
   "execution_count": null,
   "id": "cf051090",
   "metadata": {},
   "outputs": [],
   "source": []
  },
  {
   "cell_type": "markdown",
   "id": "0a666e9c",
   "metadata": {
    "deletable": false,
    "editable": false
   },
   "source": [
    "2.3 Create a fileupload button using the __*create\\_fileUploadButton(description = \"\", height = \"\", file\\_type = \"\")*__. ex: uploadbutton = create_fileUploadButton(description = \"Load Image\", height = \"90%\", file_type = \"Image\")"
   ]
  },
  {
   "cell_type": "code",
   "execution_count": null,
   "id": "79e5447c",
   "metadata": {},
   "outputs": [],
   "source": []
  },
  {
   "cell_type": "markdown",
   "id": "ca3c7970",
   "metadata": {
    "deletable": false,
    "editable": false
   },
   "source": [
    "2.4 Create a normal button for predicting the uploaded image using the function __*create\\_button(description = \"\", height = \"90%\", button\\_color = \"\")*__. \n",
    "ex: predict_button = create_button(description = 'Predict Image', height = \"90%\", button_color = \"white\")"
   ]
  },
  {
   "cell_type": "code",
   "execution_count": null,
   "id": "6e2de823",
   "metadata": {},
   "outputs": [],
   "source": []
  },
  {
   "cell_type": "markdown",
   "id": "14edb15a",
   "metadata": {
    "deletable": false,
    "editable": false,
    "tags": []
   },
   "source": [
    "2.5 Link the previously created button to the __*show\\_prediction\\_results(main, model)*__ function where *main* is the main layout and *model* is the model used for prediction, using the function __*link\\_button(button, function\\_to\\_link, arguments_of_function)*__ ex: link_button(predict_button, show_prediction_results, main,  model)"
   ]
  },
  {
   "cell_type": "code",
   "execution_count": null,
   "id": "47e9797e",
   "metadata": {},
   "outputs": [],
   "source": []
  },
  {
   "cell_type": "markdown",
   "id": "acdbd2a3",
   "metadata": {
    "deletable": false,
    "editable": false
   },
   "source": [
    "2.6 Create a normal text element using the function __*create\\_normal\\_text(color = \"\",description = \"\")*__. ex:  text = create_normal_text(color = \"blue\",description = \"Example description\") "
   ]
  },
  {
   "cell_type": "code",
   "execution_count": null,
   "id": "74ecc0ff",
   "metadata": {},
   "outputs": [],
   "source": []
  },
  {
   "cell_type": "markdown",
   "id": "b988e39c",
   "metadata": {
    "deletable": false,
    "editable": false
   },
   "source": [
    "2.7 Place the elements in the sublayouts of the main layout using the function __*place\\_elements(layout, name\\_of\\_element\\*, location = \"\", alignment = \"\")*__. ex: place_elements(main, title, location = \"header\", alignment = \"Vertical\")"
   ]
  },
  {
   "cell_type": "code",
   "execution_count": null,
   "id": "71f05892",
   "metadata": {},
   "outputs": [],
   "source": []
  },
  {
   "cell_type": "markdown",
   "id": "e5d17464",
   "metadata": {
    "deletable": false,
    "editable": false
   },
   "source": [
    "2.8 When you are ready to display your application, call the fucntion __*display\\_main(main\\_layout)*__. ex: display_main(layout)\n",
    " Note: after making changes to the GUI always run this at the end to view your changes"
   ]
  },
  {
   "cell_type": "code",
   "execution_count": null,
   "id": "cb0e7193",
   "metadata": {
    "tags": []
   },
   "outputs": [],
   "source": []
  }
 ],
 "metadata": {
  "kernelspec": {
   "display_name": "Python 3 (ipykernel)",
   "language": "python",
   "name": "python3"
  },
  "language_info": {
   "codemirror_mode": {
    "name": "ipython",
    "version": 3
   },
   "file_extension": ".py",
   "mimetype": "text/x-python",
   "name": "python",
   "nbconvert_exporter": "python",
   "pygments_lexer": "ipython3",
   "version": "3.10.10"
  }
 },
 "nbformat": 4,
 "nbformat_minor": 5
}
