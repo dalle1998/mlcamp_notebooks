{
 "cells": [
  {
   "cell_type": "markdown",
   "id": "b22d6401",
   "metadata": {
    "deletable": false,
    "editable": false,
    "tags": []
   },
   "source": [
    "# ML1 - Project - Smart Grocery Shopping "
   ]
  },
  {
   "cell_type": "markdown",
   "id": "8f9bad55",
   "metadata": {
    "deletable": false,
    "editable": false,
    "tags": []
   },
   "source": [
    "## Its common to see the long line of people at the cashier when you go grocery shopping. Long queues has always been a challenge to manage. However, Amazon has figured out a way to eliminate the wait and created a smart technology that will charge you as you walk out of the shop.\n",
    "<img style=\"float: center; /\"  width = \"1000\"  src=\"Notebook Images/ML-M1-Project-Model-Image1.png\"/>\n",
    "\n",
    "## Amazon Go grocery shops use machine learning technology to track what customers pick from shelves in order to add the items to their virtual cart and then charge them as they walk out of the store. The ML algorithm needs to recognize the item picked up by the customer using computer vision. Telling items apart can be challenging, especially when it comes to picking fruits & vegetables.\n",
    "<img style=\"float: center; /\"  width = \"1000\"  src=\"Notebook Images/ML-M1-Project-Model-Image2.png\"/>\n",
    "\n",
    "## In order to discover how this works, your task is to train a KNN model to classify three different classes of fruits using three types of features and then use the best performing model to build an ML application that classifies the fruit correclty.\n",
    "<img style=\"float: center; /\"  width = \"1000\"  src=\"Notebook Images/ML-M1-Project-Model-Image3.png\"/>\n",
    "\n",
    "## What you need to do:\n",
    "1. Load, show & cleanse the fruits data & get the budget for the project\n",
    "2. Train and test a KNN model using three values for k = [3, 5, 10] and using three types of features:<br>\n",
    "    2.1. Raw pixels<br>\n",
    "    2.2. GreyScale pixels<br>\n",
    "    2.3. Color histogram\n",
    "4. Choose the best performing one and save it"
   ]
  },
  {
   "cell_type": "markdown",
   "id": "33c69f7e",
   "metadata": {
    "deletable": false,
    "editable": false,
    "id": 1,
    "tags": []
   },
   "source": [
    "### 1. Load, show & cleanse the fruits data and get the budget for the project"
   ]
  },
  {
   "cell_type": "markdown",
   "id": "705b12ff",
   "metadata": {
    "deletable": false,
    "editable": false
   },
   "source": [
    "1.1. Load the fruits dataset. filename = \"fruits\" "
   ]
  },
  {
   "cell_type": "code",
   "execution_count": null,
   "id": "8401659f",
   "metadata": {},
   "outputs": [],
   "source": []
  },
  {
   "cell_type": "markdown",
   "id": "fb310d47",
   "metadata": {
    "deletable": false,
    "editable": false,
    "tags": []
   },
   "source": [
    "1.2. Show the data in a table. Cleanse only the __first 100 rows__ of the dataset. The table has:\n",
    "<ul>\n",
    "    <li>\n",
    "        Wrong Images\n",
    "    </li>\n",
    "    <li>\n",
    "        Wrong lables\n",
    "    </li>\n",
    "    <li>\n",
    "        Distorted Images\n",
    "    </li>\n",
    "</ul>\n",
    "<br/>\n",
    "Delete the corrupted data & rename the wrong labels to their correct form."
   ]
  },
  {
   "cell_type": "code",
   "execution_count": null,
   "id": "afe2edee",
   "metadata": {
    "tags": []
   },
   "outputs": [],
   "source": []
  },
  {
   "cell_type": "markdown",
   "id": "35d606ab-0567-4c2c-ae30-d29514718cf2",
   "metadata": {
    "deletable": false,
    "editable": false,
    "tags": []
   },
   "source": [
    "1.3 Get the budget for the project"
   ]
  },
  {
   "cell_type": "code",
   "execution_count": null,
   "id": "cce50d8d-87a9-46f2-9e9e-c3a172adbc7a",
   "metadata": {
    "tags": []
   },
   "outputs": [],
   "source": []
  },
  {
   "cell_type": "markdown",
   "id": "f7c84f08",
   "metadata": {
    "deletable": false,
    "editable": false,
    "id": 2
   },
   "source": [
    "### 2. Train and test a KNN model using three values for k = [3, 5, 10]"
   ]
  },
  {
   "cell_type": "markdown",
   "id": "7cc4be9f",
   "metadata": {
    "deletable": false,
    "editable": false,
    "id": 2.1,
    "tags": []
   },
   "source": [
    "### 2.1 Using raw image pixels"
   ]
  },
  {
   "cell_type": "markdown",
   "id": "35749342",
   "metadata": {
    "deletable": false,
    "editable": false
   },
   "source": [
    "2.1.1 Split the data"
   ]
  },
  {
   "cell_type": "code",
   "execution_count": null,
   "id": "0850cc7c",
   "metadata": {},
   "outputs": [],
   "source": []
  },
  {
   "cell_type": "markdown",
   "id": "09585c6f",
   "metadata": {
    "deletable": false,
    "editable": false
   },
   "source": [
    "2.1.2 Create, train & test the KNN models"
   ]
  },
  {
   "cell_type": "code",
   "execution_count": null,
   "id": "09c13782",
   "metadata": {},
   "outputs": [],
   "source": []
  },
  {
   "cell_type": "markdown",
   "id": "1f2f215c",
   "metadata": {
    "deletable": false,
    "editable": false,
    "id": 2.2
   },
   "source": [
    "### 2.2 Using greyscale pixels"
   ]
  },
  {
   "cell_type": "markdown",
   "id": "534b0efc",
   "metadata": {
    "deletable": false,
    "editable": false
   },
   "source": [
    "2.2.1 Extract & apply greyscale features"
   ]
  },
  {
   "cell_type": "code",
   "execution_count": null,
   "id": "238ee1a7",
   "metadata": {},
   "outputs": [],
   "source": []
  },
  {
   "cell_type": "code",
   "execution_count": null,
   "id": "ec91f8a9",
   "metadata": {},
   "outputs": [],
   "source": []
  },
  {
   "cell_type": "markdown",
   "id": "f754b4fe",
   "metadata": {
    "deletable": false,
    "editable": false
   },
   "source": [
    "2.2.2 Show the data in a table"
   ]
  },
  {
   "cell_type": "code",
   "execution_count": null,
   "id": "03c5abbc",
   "metadata": {},
   "outputs": [],
   "source": []
  },
  {
   "cell_type": "markdown",
   "id": "68cef2a5",
   "metadata": {
    "deletable": false,
    "editable": false
   },
   "source": [
    "2.2.3 Split the data"
   ]
  },
  {
   "cell_type": "code",
   "execution_count": null,
   "id": "32ce84bc",
   "metadata": {},
   "outputs": [],
   "source": []
  },
  {
   "cell_type": "markdown",
   "id": "d233542e",
   "metadata": {
    "deletable": false,
    "editable": false
   },
   "source": [
    "2.2.4 Create, train & test the KNN models"
   ]
  },
  {
   "cell_type": "code",
   "execution_count": null,
   "id": "79be5426",
   "metadata": {},
   "outputs": [],
   "source": []
  },
  {
   "cell_type": "markdown",
   "id": "e3da2839",
   "metadata": {
    "deletable": false,
    "editable": false,
    "id": 2.3
   },
   "source": [
    "### 2.3 Using color histogram features"
   ]
  },
  {
   "cell_type": "markdown",
   "id": "0a8641c4",
   "metadata": {
    "deletable": false,
    "editable": false
   },
   "source": [
    "2.3.1 Extract the red histogram features. Define the number of bins to extract."
   ]
  },
  {
   "cell_type": "code",
   "execution_count": null,
   "id": "2cdf5257",
   "metadata": {},
   "outputs": [],
   "source": []
  },
  {
   "cell_type": "markdown",
   "id": "4efcd705",
   "metadata": {
    "deletable": false,
    "editable": false
   },
   "source": [
    "2.3.2 Apply the feature extraction"
   ]
  },
  {
   "cell_type": "code",
   "execution_count": null,
   "id": "838cfc96",
   "metadata": {},
   "outputs": [],
   "source": []
  },
  {
   "cell_type": "markdown",
   "id": "1d03922f",
   "metadata": {
    "deletable": false,
    "editable": false
   },
   "source": [
    "2.3.3 Show the data in a table"
   ]
  },
  {
   "cell_type": "code",
   "execution_count": null,
   "id": "8441d2f9",
   "metadata": {},
   "outputs": [],
   "source": []
  },
  {
   "cell_type": "markdown",
   "id": "000007c4",
   "metadata": {
    "deletable": false,
    "editable": false
   },
   "source": [
    "2.3.4 Extract the green histogram features"
   ]
  },
  {
   "cell_type": "code",
   "execution_count": null,
   "id": "9f330c17",
   "metadata": {},
   "outputs": [],
   "source": []
  },
  {
   "cell_type": "markdown",
   "id": "1b38cef7",
   "metadata": {
    "deletable": false,
    "editable": false
   },
   "source": [
    "2.3.5 Apply the feature extraction"
   ]
  },
  {
   "cell_type": "code",
   "execution_count": null,
   "id": "089a83e5",
   "metadata": {},
   "outputs": [],
   "source": []
  },
  {
   "cell_type": "markdown",
   "id": "cc815b67",
   "metadata": {
    "deletable": false,
    "editable": false
   },
   "source": [
    "2.3.6 Show the data in a table"
   ]
  },
  {
   "cell_type": "code",
   "execution_count": null,
   "id": "1b741c16",
   "metadata": {
    "scrolled": true
   },
   "outputs": [],
   "source": []
  },
  {
   "cell_type": "markdown",
   "id": "2e8583c2",
   "metadata": {
    "deletable": false,
    "editable": false
   },
   "source": [
    "2.3.7 Extract the blue histogram features"
   ]
  },
  {
   "cell_type": "code",
   "execution_count": null,
   "id": "9265f425",
   "metadata": {},
   "outputs": [],
   "source": []
  },
  {
   "cell_type": "markdown",
   "id": "85e60147",
   "metadata": {
    "deletable": false,
    "editable": false
   },
   "source": [
    "2.3.8 Apply the feature extraction"
   ]
  },
  {
   "cell_type": "code",
   "execution_count": null,
   "id": "0f44fe29",
   "metadata": {},
   "outputs": [],
   "source": []
  },
  {
   "cell_type": "markdown",
   "id": "ed72ee98",
   "metadata": {
    "deletable": false,
    "editable": false
   },
   "source": [
    "2.3.9 Show the data in a table"
   ]
  },
  {
   "cell_type": "code",
   "execution_count": null,
   "id": "32cf991d",
   "metadata": {
    "scrolled": true
   },
   "outputs": [],
   "source": []
  },
  {
   "cell_type": "markdown",
   "id": "bb31b738",
   "metadata": {
    "deletable": false,
    "editable": false
   },
   "source": [
    "2.3.10 Split the data"
   ]
  },
  {
   "cell_type": "code",
   "execution_count": null,
   "id": "54f53891",
   "metadata": {},
   "outputs": [],
   "source": []
  },
  {
   "cell_type": "markdown",
   "id": "00b0afc2",
   "metadata": {
    "deletable": false,
    "editable": false
   },
   "source": [
    "2.3.11 Create, train & test the KNN models"
   ]
  },
  {
   "cell_type": "code",
   "execution_count": null,
   "id": "9f45279a",
   "metadata": {},
   "outputs": [],
   "source": []
  },
  {
   "cell_type": "markdown",
   "id": "318ea26a",
   "metadata": {
    "deletable": false,
    "editable": false
   },
   "source": [
    "2.3.12 Plot the color histogram of random images using the __*plot\\_histogram(data)*__ function. ex: plot_histogram(data)"
   ]
  },
  {
   "cell_type": "code",
   "execution_count": null,
   "id": "0d7d12bb",
   "metadata": {},
   "outputs": [],
   "source": []
  },
  {
   "cell_type": "markdown",
   "id": "97d906ad",
   "metadata": {
    "deletable": false,
    "editable": false,
    "id": 3
   },
   "source": [
    "### 3. Reflect on the results and save the best performing model"
   ]
  },
  {
   "cell_type": "code",
   "execution_count": null,
   "id": "dfe80a6e",
   "metadata": {},
   "outputs": [],
   "source": []
  },
  {
   "cell_type": "markdown",
   "id": "d037e99b-4742-4a13-9f0f-26cb543d7e77",
   "metadata": {
    "tags": []
   },
   "source": [
    "# ML1 - Project - Smart Grocery Shopping - Application"
   ]
  },
  {
   "cell_type": "markdown",
   "id": "d82d7651-393b-4659-ab83-5181a783f585",
   "metadata": {},
   "source": [
    "## Now that you have trained and save the KNN model, your task is to design the GUI for a fruit classifcation application that can predict the class of an uploaded image. \n",
    "<img style=\"float: center; /\"  width = \"1000\"  src=\"Notebook Images/ML-M1-Project-App-Image.png\">\n"
   ]
  },
  {
   "cell_type": "markdown",
   "id": "cfc63e96-64d2-4d17-aebc-b52920732499",
   "metadata": {
    "tags": []
   },
   "source": [
    "### 1. Design a GUI for the application that includes:\n",
    "1. A main layout consisting of header, body and footer\n",
    "2. A title \n",
    "3. A load image button\n",
    "4. A Predict image button\n",
    "\n",
    "\n",
    "*Add or remove __20 $__ from your budget based on your predicition result*"
   ]
  },
  {
   "cell_type": "code",
   "execution_count": null,
   "id": "60e76135-1136-4193-b3ed-28bdca6b4898",
   "metadata": {
    "deletable": false,
    "tags": []
   },
   "outputs": [],
   "source": []
  },
  {
   "cell_type": "code",
   "execution_count": null,
   "id": "7f53f27d-96ce-4448-a1b5-7e3c472f548a",
   "metadata": {},
   "outputs": [],
   "source": []
  },
  {
   "cell_type": "code",
   "execution_count": null,
   "id": "94e362e3-5dfd-456d-9b0d-b268c3e8204e",
   "metadata": {},
   "outputs": [],
   "source": []
  },
  {
   "cell_type": "markdown",
   "id": "ee49cc7f-30f6-44b1-8b87-d529805b3c91",
   "metadata": {
    "deletable": false,
    "editable": false,
    "tags": []
   },
   "source": [
    "### 4. Present model performance and budget status "
   ]
  },
  {
   "cell_type": "markdown",
   "id": "3390ed20-8bb6-42e1-a5d2-4c9cce2a03df",
   "metadata": {
    "deletable": false,
    "editable": false,
    "tags": []
   },
   "source": [
    "4.1 Print the current budget at the end of your ML Ops cycle. Use the function __*show_current_budget()*__ to show your current budget"
   ]
  },
  {
   "cell_type": "code",
   "execution_count": null,
   "id": "9a445720-66e5-4b59-b6de-156e3df391ad",
   "metadata": {},
   "outputs": [],
   "source": []
  },
  {
   "cell_type": "markdown",
   "id": "2e188d05-3099-43ea-b2d1-5acf810869d4",
   "metadata": {
    "deletable": false,
    "editable": false,
    "tags": []
   },
   "source": [
    "4.2 Plot the correct predictions & wrong predicitions in a bar graph."
   ]
  },
  {
   "cell_type": "code",
   "execution_count": null,
   "id": "aafd35ee-cac3-4229-83fb-535e576cf2c4",
   "metadata": {},
   "outputs": [],
   "source": []
  }
 ],
 "metadata": {
  "kernelspec": {
   "display_name": "Python 3 (ipykernel)",
   "language": "python",
   "name": "python3"
  },
  "language_info": {
   "codemirror_mode": {
    "name": "ipython",
    "version": 3
   },
   "file_extension": ".py",
   "mimetype": "text/x-python",
   "name": "python",
   "nbconvert_exporter": "python",
   "pygments_lexer": "ipython3",
   "version": "3.10.10"
  }
 },
 "nbformat": 4,
 "nbformat_minor": 5
}
