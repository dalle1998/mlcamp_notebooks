{
 "cells": [
  {
   "cell_type": "markdown",
   "id": "53f540c8",
   "metadata": {
    "deletable": false,
    "editable": false
   },
   "source": [
    "# ML1 - Session 2 - Practice"
   ]
  },
  {
   "cell_type": "markdown",
   "id": "46212183",
   "metadata": {
    "deletable": false,
    "editable": false
   },
   "source": [
    "## An application devalopment team is working on a plant identifcation application. They want to devalop a machine learning model that can identify different types of flowers based on an image input. Their first step is to find out what are the useful features that they need in order to classify the flowers in the best way possible. <br>\n",
    "## Your task is to extract three types of features and recognise which of the extracted features can be useful for training a KNN model. <br>\n",
    "## The dataset has 10 classes of flowers as represented below:\n",
    "<img style=\"float: center; /\"  width = \"1000\"  src=\"Notebook Images/ML-M1-Session2-Practice-Image.png\">"
   ]
  },
  {
   "cell_type": "markdown",
   "id": "b1d98118",
   "metadata": {
    "deletable": false,
    "editable": false
   },
   "source": [
    "## What you need to do: <br>\n",
    "1. Load & show the flowers dataset\n",
    "2. Extract the greyscale pixels\n",
    "4. Extract the average of colors\n",
    "4. Extract the color histograms\n",
    "6. Show the results in a table \n"
   ]
  },
  {
   "cell_type": "markdown",
   "id": "eed6aa39",
   "metadata": {
    "deletable": false,
    "editable": false,
    "id": 1
   },
   "source": [
    "### 1. Load & show the flowers dataset"
   ]
  },
  {
   "cell_type": "markdown",
   "id": "b9650a78",
   "metadata": {
    "deletable": false,
    "editable": false
   },
   "source": [
    "1.1 Load the flowers dataset. filename = \"flowers\""
   ]
  },
  {
   "cell_type": "code",
   "execution_count": null,
   "id": "64e6b302",
   "metadata": {},
   "outputs": [],
   "source": []
  },
  {
   "cell_type": "markdown",
   "id": "6d632fa3",
   "metadata": {
    "deletable": false,
    "editable": false
   },
   "source": [
    "1.2 Show the data in a table"
   ]
  },
  {
   "cell_type": "code",
   "execution_count": null,
   "id": "08536891",
   "metadata": {},
   "outputs": [],
   "source": []
  },
  {
   "cell_type": "markdown",
   "id": "07fa360c",
   "metadata": {
    "deletable": false,
    "editable": false,
    "id": 2
   },
   "source": [
    "### 2. Extract the greyscale pixels"
   ]
  },
  {
   "cell_type": "markdown",
   "id": "efd8b736",
   "metadata": {
    "deletable": false,
    "editable": false
   },
   "source": [
    "2.1 Define a function __*extract\\_feature\\_greyscale(row)*__ that takes in a row from the dataset and returns the greyscale image. Use the function __*get\\_value(row, column\\_name)*__ to get the value from the row. ex: image = get_value(row, \"Image\"). Use the function convert_gs(image) to extract the greyscale pixels of an image."
   ]
  },
  {
   "cell_type": "code",
   "execution_count": null,
   "id": "d0066c0d",
   "metadata": {},
   "outputs": [],
   "source": [
    "def extract_feature_greyscale(row):\n",
    "    # Get the image from the row\n",
    "    \n",
    "    # Convert the image to greyscale\n",
    "    \n",
    "    return "
   ]
  },
  {
   "cell_type": "markdown",
   "id": "80c2e1ae",
   "metadata": {
    "deletable": false,
    "editable": false
   },
   "source": [
    "2.2 Apply feature extraction using the function __*apply\\_feature(feature\\_extractor, data, name\\_of\\_new\\_column)*__. This function will add a new column to the dataset containing the extracted features. ex: apply_feature(extract_feature_greyscale, data_df, \"GreyScale\")"
   ]
  },
  {
   "cell_type": "code",
   "execution_count": null,
   "id": "258c4735",
   "metadata": {},
   "outputs": [],
   "source": []
  },
  {
   "cell_type": "markdown",
   "id": "0f743f46",
   "metadata": {
    "deletable": false,
    "editable": false,
    "id": 3
   },
   "source": [
    "### 3. Extract the average of colors"
   ]
  },
  {
   "cell_type": "markdown",
   "id": "b87a46b0",
   "metadata": {
    "deletable": false,
    "editable": false
   },
   "source": [
    "3.1 Define a function called __*extract\\_feature\\_red\\_values(row)*__ that takes in a row of the data and returns the average red pixel value. Use the function get_average_red(image) to extract the average red pixel value of an image."
   ]
  },
  {
   "cell_type": "code",
   "execution_count": null,
   "id": "1382bae7",
   "metadata": {},
   "outputs": [],
   "source": [
    "def extract_feature_red_values(row):\n",
    "\n",
    "    return "
   ]
  },
  {
   "cell_type": "markdown",
   "id": "5c5ce035",
   "metadata": {
    "deletable": false,
    "editable": false
   },
   "source": [
    "#### 3.2 Apply the feature extraction"
   ]
  },
  {
   "cell_type": "code",
   "execution_count": null,
   "id": "01d9e492",
   "metadata": {},
   "outputs": [],
   "source": []
  },
  {
   "cell_type": "markdown",
   "id": "502e03f3",
   "metadata": {
    "deletable": false,
    "editable": false
   },
   "source": [
    "#### 3.3 Define a function called extract_feature_green_values(row) that takes in a row of the data and returns the average green pixel value. use the function et_average_green(image) to extract the average green pixel value of an image."
   ]
  },
  {
   "cell_type": "code",
   "execution_count": null,
   "id": "4be5d6bd",
   "metadata": {},
   "outputs": [],
   "source": [
    "def extract_feature_green_values(row):\n",
    "\n",
    "    return "
   ]
  },
  {
   "cell_type": "markdown",
   "id": "0a12c911",
   "metadata": {
    "deletable": false,
    "editable": false
   },
   "source": [
    "3.4 Apply the feature extraction"
   ]
  },
  {
   "cell_type": "code",
   "execution_count": null,
   "id": "78f81f77",
   "metadata": {},
   "outputs": [],
   "source": []
  },
  {
   "cell_type": "markdown",
   "id": "04b60df7",
   "metadata": {
    "deletable": false,
    "editable": false
   },
   "source": [
    "3.5 Define a function called __*extract\\_feature\\_blue\\_values(row)*__ that takes in a row of the data and returns the average blue pixel value. Use the function get_average_blue(image) to extract the average blue pixel value of an image."
   ]
  },
  {
   "cell_type": "code",
   "execution_count": null,
   "id": "2181ea25",
   "metadata": {},
   "outputs": [],
   "source": [
    "def extract_feature_blue_values(row):\n",
    "\n",
    "    return "
   ]
  },
  {
   "cell_type": "markdown",
   "id": "5d19668a",
   "metadata": {
    "deletable": false,
    "editable": false
   },
   "source": [
    "3.6 Apply the feature extraction"
   ]
  },
  {
   "cell_type": "code",
   "execution_count": null,
   "id": "327dc1e1",
   "metadata": {},
   "outputs": [],
   "source": []
  },
  {
   "cell_type": "markdown",
   "id": "5c2cfb56",
   "metadata": {
    "deletable": false,
    "editable": false,
    "id": 4
   },
   "source": [
    "### 4. Extract the color histograms"
   ]
  },
  {
   "cell_type": "markdown",
   "id": "b3604e31",
   "metadata": {
    "deletable": false,
    "editable": false
   },
   "source": [
    "4.1 Define a function called __*extract\\_feature\\_hist\\_red(row)*__ that takes in a row of the data and returns red histogram values. Use the function __*get\\_hist(image, color, number\\_of\\_bins)*__ to extract the bin values of the red histogram of an image. ex: get_hist(im, color = \"red\",nbins = 10)"
   ]
  },
  {
   "cell_type": "code",
   "execution_count": null,
   "id": "5327febd",
   "metadata": {},
   "outputs": [],
   "source": [
    "def extract_feature_hist_red(row):\n",
    "\n",
    "    return "
   ]
  },
  {
   "cell_type": "markdown",
   "id": "bf294249",
   "metadata": {
    "deletable": false,
    "editable": false
   },
   "source": [
    "4.2 Apply the feature extraction"
   ]
  },
  {
   "cell_type": "code",
   "execution_count": null,
   "id": "f8be6cb4",
   "metadata": {},
   "outputs": [],
   "source": []
  },
  {
   "cell_type": "markdown",
   "id": "87533f44",
   "metadata": {
    "deletable": false,
    "editable": false
   },
   "source": [
    "4.3 Define a function __*extract\\_feature\\_hist\\_green(row)*__ that takes in a row of the data and returns green histogram values. "
   ]
  },
  {
   "cell_type": "code",
   "execution_count": null,
   "id": "3eb81b7a",
   "metadata": {},
   "outputs": [],
   "source": [
    "def extract_feature_hist_green(row):\n",
    "\n",
    "    return "
   ]
  },
  {
   "cell_type": "markdown",
   "id": "86d55186",
   "metadata": {
    "deletable": false
   },
   "source": [
    "4.4 Apply the feature extraction"
   ]
  },
  {
   "cell_type": "code",
   "execution_count": null,
   "id": "a7351eb8",
   "metadata": {},
   "outputs": [],
   "source": []
  },
  {
   "cell_type": "markdown",
   "id": "e9433c2e",
   "metadata": {
    "deletable": false,
    "editable": false
   },
   "source": [
    "4.5 Define a function __*extract\\_feature\\_hist\\_blue(row)*__ that takes in a row of the data and returns blue histogram values. "
   ]
  },
  {
   "cell_type": "code",
   "execution_count": null,
   "id": "af477066",
   "metadata": {},
   "outputs": [],
   "source": [
    "def extract_feature_hist_blue(row):\n",
    "\n",
    "    return "
   ]
  },
  {
   "cell_type": "markdown",
   "id": "ff936c89",
   "metadata": {
    "deletable": false,
    "editable": false
   },
   "source": [
    "4.6 Apply the feature extraction"
   ]
  },
  {
   "cell_type": "code",
   "execution_count": null,
   "id": "dd6af86a",
   "metadata": {},
   "outputs": [],
   "source": []
  },
  {
   "cell_type": "markdown",
   "id": "15956e9b",
   "metadata": {
    "deletable": false,
    "editable": false,
    "id": 5
   },
   "source": [
    "### 5. Show the results in a table"
   ]
  },
  {
   "cell_type": "code",
   "execution_count": null,
   "id": "c5467634",
   "metadata": {},
   "outputs": [],
   "source": []
  }
 ],
 "metadata": {
  "kernelspec": {
   "display_name": "Python 3 (ipykernel)",
   "language": "python",
   "name": "python3"
  },
  "language_info": {
   "codemirror_mode": {
    "name": "ipython",
    "version": 3
   },
   "file_extension": ".py",
   "mimetype": "text/x-python",
   "name": "python",
   "nbconvert_exporter": "python",
   "pygments_lexer": "ipython3",
   "version": "3.10.10"
  }
 },
 "nbformat": 4,
 "nbformat_minor": 5
}
