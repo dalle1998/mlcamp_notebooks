{
 "cells": [
  {
   "cell_type": "markdown",
   "id": "3db989b9-392b-413b-b5e0-9c99462e56c8",
   "metadata": {
    "deletable": false,
    "editable": false,
    "tags": []
   },
   "source": [
    "# ML- M1 - Session 4 - Challenge"
   ]
  },
  {
   "cell_type": "markdown",
   "id": "d4547fb0-d987-46e4-a696-a7179c72bb63",
   "metadata": {
    "deletable": false,
    "editable": false,
    "tags": []
   },
   "source": [
    "## We want to create an ML model that can recognize hand written digits. This is part of an ongoing project to digitize handwritten checks deposited at banks. \n",
    "<div style = \"display: flex\">\n",
    "  <div >\n",
    "    <img width = 400 height = 200 src = \"Notebook Images/Copy-of-CHECK-PERSONAL.png\"/> \n",
    "  </div>\n",
    "  <div>\n",
    "    <img width = 400 height = 200 src = \"Notebook Images/handing_check.jpg\"/>\n",
    "  </div>\n",
    "</div>\n",
    "<br/>\n",
    "\n",
    "## To accomplish this we need to:\n",
    "1. Load and visualize the data\n",
    "2. Get your project budget & train & test a KNN model\n",
    "3. Deploy the model using a GUI\n",
    "4. Present model performance and budget status "
   ]
  },
  {
   "cell_type": "markdown",
   "id": "9fe2afc3-9475-43ce-a84f-1dbafd322de4",
   "metadata": {
    "deletable": false,
    "editable": false,
    "tags": []
   },
   "source": [
    "### 1. Load and visualize the data"
   ]
  },
  {
   "cell_type": "markdown",
   "id": "e9f8fbd8-c31a-4596-931f-538086474496",
   "metadata": {
    "deletable": false,
    "editable": false,
    "tags": []
   },
   "source": [
    "Dataset name = \"mnist\""
   ]
  },
  {
   "cell_type": "code",
   "execution_count": null,
   "id": "5ba2e0f1-38e5-462f-b6a8-bb51cba9b299",
   "metadata": {
    "tags": []
   },
   "outputs": [],
   "source": []
  },
  {
   "cell_type": "code",
   "execution_count": null,
   "id": "ac32c1df-f6b5-4849-b613-41df1d0b63c9",
   "metadata": {
    "tags": []
   },
   "outputs": [],
   "source": []
  },
  {
   "cell_type": "markdown",
   "id": "aae740a8-1374-43c3-b3a9-315ce38448f1",
   "metadata": {
    "deletable": false,
    "editable": false,
    "tags": []
   },
   "source": [
    "### 2.Get your project budget & train & test a KNN Model"
   ]
  },
  {
   "cell_type": "markdown",
   "id": "aa503443-9a29-42b2-bc43-1dd149148251",
   "metadata": {
    "deletable": false,
    "editable": false,
    "tags": []
   },
   "source": [
    "Use the function __*get_budget()*__ to get the budget for your project. This money will be used throughout your project.\n",
    "<br/>\n",
    "- The longer the training time is the more money will be deducted from your budget. Try to balance out how much data to use vs. the accuracy\n",
    "<br/>\n",
    "- The budget will either increase or decrease in production based on your user feedback. The more predicitions match with the actual label the more money you will get towards your budget.\n"
   ]
  },
  {
   "cell_type": "code",
   "execution_count": null,
   "id": "85c29508-b42b-4b0c-a1b1-0eb6097cf3cf",
   "metadata": {
    "tags": []
   },
   "outputs": [],
   "source": []
  },
  {
   "cell_type": "code",
   "execution_count": null,
   "id": "7f8770f4-e584-416e-bf57-a72206e9e053",
   "metadata": {
    "tags": []
   },
   "outputs": [],
   "source": []
  },
  {
   "cell_type": "markdown",
   "id": "c6f691a0-0dc2-48f4-9835-0a83284c9c70",
   "metadata": {
    "deletable": false,
    "editable": false,
    "tags": []
   },
   "source": [
    "Use the function __*create_model(\"knn\", k, production)*__ to create a knn model. Use the additional argument __*production*__ which can be *True* or *False* - *True* means this model will be used for production and *False* means it won't be used later on. <br/> Here we are setting it to *True* since we aim to use this model in our application."
   ]
  },
  {
   "cell_type": "code",
   "execution_count": null,
   "id": "08652f4f-642a-4327-9315-d08709bab0e8",
   "metadata": {
    "tags": []
   },
   "outputs": [],
   "source": []
  },
  {
   "cell_type": "code",
   "execution_count": null,
   "id": "13bc9a51-f5be-45b5-aa91-f4cda5e512fd",
   "metadata": {
    "tags": []
   },
   "outputs": [],
   "source": []
  },
  {
   "cell_type": "code",
   "execution_count": null,
   "id": "97227d6d-569a-4e76-b156-3553c95ce278",
   "metadata": {
    "tags": []
   },
   "outputs": [],
   "source": []
  },
  {
   "cell_type": "code",
   "execution_count": null,
   "id": "effad670-529f-40b5-a695-8e936ffe3154",
   "metadata": {},
   "outputs": [],
   "source": []
  },
  {
   "cell_type": "markdown",
   "id": "e807c8ae-2a52-4cb9-b3fb-311b25ac9044",
   "metadata": {
    "tags": []
   },
   "source": [
    "### 3. Deploy model through a GUI"
   ]
  },
  {
   "cell_type": "markdown",
   "id": "fc4e647c-f03e-47b6-ad39-33b1dd9d11ba",
   "metadata": {
    "deletable": false,
    "editable": false,
    "tags": []
   },
   "source": [
    "3.1 Create two functions __*model\\_correct(button)*__  which increase the counter for correct predictions by one and increases the production money by 10 $ and __*model\\_wrong(button)*__ which does the opposite.<br/>\n",
    "Link these functions to buttons on your GUI. <br/>\n",
    "Use the following tips to get started:\n",
    "<br/>\n",
    "<ul>\n",
    "    <li>\n",
    "        To add to your budget use the function <b> add_to_budget(value) </b> where value is how much you want to add to your budget\n",
    "    </li>\n",
    "    <li>\n",
    "        To remove money from your budget use the function <b> remove_from_budget(value) </b> where value is how much you want to remove from the budget\n",
    "    </li>\n",
    "    <li>\n",
    "        The varaibles for both the correct prediction count for a model & the wrong prediction count is: <b> model.count_correct </b> and <b> model.count_wrong </b> respectively\n",
    "    </li>\n",
    "</ul>\n"
   ]
  },
  {
   "cell_type": "code",
   "execution_count": null,
   "id": "7a1f252b-5a3c-464e-ba9c-683ac39c9c8e",
   "metadata": {
    "tags": []
   },
   "outputs": [],
   "source": []
  },
  {
   "cell_type": "code",
   "execution_count": null,
   "id": "d227f2a2-fe45-4938-983a-527fc25087ac",
   "metadata": {
    "tags": []
   },
   "outputs": [],
   "source": []
  },
  {
   "cell_type": "markdown",
   "id": "ab919769-489b-4bfb-bbba-36bd2260ba68",
   "metadata": {
    "deletable": false,
    "editable": false,
    "tags": []
   },
   "source": [
    "3.2 Create the GUI of your Application. Include a feedback question in your app in order to monitor your Model's performance and link it to the functions above.\n",
    "<br/>\n",
    "Add a button to convert the uploaded image to a negative black & white image if the uploaded image is not already a negative image. Link the function __*convert_to_negative(main)*__, which converts the image found in the body of *main* layout, with the button using the __*link_button(button_name, function_name, arguments)*__ function__ . ex: link_button(button_convert, convert_to_negative, main)\n",
    "<br/>\n",
    "A negative  image is an image with flipped pixel values where black or dark pixels become white (0 -> 255) & white pixels become black (255 -> 0). "
   ]
  },
  {
   "cell_type": "code",
   "execution_count": null,
   "id": "ce98cc7c-17ca-4d30-96c2-a411712310ac",
   "metadata": {
    "tags": []
   },
   "outputs": [],
   "source": []
  },
  {
   "cell_type": "markdown",
   "id": "69031759-00e7-4222-8d0a-1ac48e35adc3",
   "metadata": {},
   "source": [
    "### 4. Present model performance and budget status "
   ]
  },
  {
   "cell_type": "markdown",
   "id": "1752902a-d54e-47e5-ba6c-354fd736ae16",
   "metadata": {},
   "source": [
    "4.1 Print the current budget at the end of your ML Ops cycle. Use the function __*show_current_budget()*__ to show your current budget"
   ]
  },
  {
   "cell_type": "code",
   "execution_count": null,
   "id": "f79f06c3-6e4e-4d3d-bdbc-63ed984197a5",
   "metadata": {
    "tags": []
   },
   "outputs": [],
   "source": []
  },
  {
   "attachments": {
    "bcf6e417-7443-4c7b-9a67-8f1c4521c72b.png": {
     "image/png": "[encoded data removed]"
    }
   },
   "cell_type": "markdown",
   "id": "c910ccd6-e1d2-4efb-9e7b-49a5cd3e365a",
   "metadata": {
    "deletable": false,
    "editable": false,
    "tags": []
   },
   "source": [
    "4.2 Plot the correct predictions & wrong predictions in a bar graph using the function __*plt.bar([x1, x2, ...], [y1, y2, ...], color = \"\" )*__ where __*[x1, x2, ...]*__ is the labels on the x-axis per bar & __*[y1, y2, ...]*__ are the values per label. ex: __*plt.bar([\"cats\", \"dogs\"], [23, 54], color = \"blue\" )*__ \n",
    "<div>\n",
    "<img src=\"attachment:bcf6e417-7443-4c7b-9a67-8f1c4521c72b.png\" width=\"500\"/>\n",
    "</div>"
   ]
  },
  {
   "cell_type": "code",
   "execution_count": null,
   "id": "b4a6515c-c498-4712-af00-43cad73de297",
   "metadata": {
    "tags": []
   },
   "outputs": [],
   "source": []
  }
 ],
 "metadata": {
  "kernelspec": {
   "display_name": "Python 3 (ipykernel)",
   "language": "python",
   "name": "python3"
  },
  "language_info": {
   "codemirror_mode": {
    "name": "ipython",
    "version": 3
   },
   "file_extension": ".py",
   "mimetype": "text/x-python",
   "name": "python",
   "nbconvert_exporter": "python",
   "pygments_lexer": "ipython3",
   "version": "3.10.10"
  }
 },
 "nbformat": 4,
 "nbformat_minor": 5
}
