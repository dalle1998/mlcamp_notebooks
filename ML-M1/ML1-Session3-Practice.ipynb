{
 "cells": [
  {
   "cell_type": "markdown",
   "id": "f8058898-9837-4598-b17b-710eb27de37d",
   "metadata": {
    "deletable": false,
    "editable": false,
    "tags": []
   },
   "source": [
    "# ML1 - Session 3 - Practice"
   ]
  },
  {
   "cell_type": "markdown",
   "id": "78b17e07-d98f-4568-8189-d24b7db400f4",
   "metadata": {
    "deletable": false,
    "editable": false,
    "tags": []
   },
   "source": [
    "## A hospital is working on a new ML model for diagnosing someone with diabetes. The system works by inputing different paramaters such as number of pregnancies had, glucose level and blood pressure and determines whether the patient has diabetes.\n",
    "<div style = \"display: flex\">\n",
    "  <div >\n",
    "    <img  width = \"800\"  src=\"Notebook Images/ML-M1-Session3-Practice-Image.jpg\"/>\n",
    "  </div>\n",
    "  <div>\n",
    "    <img  style = \"padding-left: 20px\" width = \"960\"  src=\"Notebook Images/ML-M1-Session3-Practice-Image2.jpg\"/>\n",
    "  </div>\n",
    "</div>\n",
    "\n",
    "## Our job is to train a KNN model on the available diabetes dataset.\n",
    "## What you need to do:\n",
    "1. Load, show & cleanse the diabetes dataset\n",
    "2. Build & train a KNN model on all the features of the dataset\n",
    "3. Test & evaluate the model\n",
    "4. Analyze your results & improve your model"
   ]
  },
  {
   "cell_type": "markdown",
   "id": "837be3c9-565e-4d03-a3d8-3bddc66625b6",
   "metadata": {
    "deletable": false,
    "editable": false,
    "tags": []
   },
   "source": [
    "### 1. Load, show & cleanse the diabetes dataset"
   ]
  },
  {
   "cell_type": "markdown",
   "id": "3e1e231b-cce8-430b-a230-4a01eb22d64a",
   "metadata": {
    "deletable": false,
    "editable": false,
    "tags": []
   },
   "source": [
    "1.1 Load the diabetes dataset. filename = \"diabetes\" "
   ]
  },
  {
   "cell_type": "code",
   "execution_count": null,
   "id": "24dc7972-cc32-489f-9c81-1aa5b4c358fc",
   "metadata": {
    "tags": []
   },
   "outputs": [],
   "source": []
  },
  {
   "cell_type": "markdown",
   "id": "463d61b2-3f5a-4258-bea0-5393e710e52c",
   "metadata": {
    "deletable": false,
    "editable": false,
    "tags": []
   },
   "source": [
    "1.2 Show & clean the dataset using the function __*show()*__. The first 50 rows of this dataset has duplicate rows and unknown data values for some of its rows. Look through the first 50 rows of the dataset and remove the rows with the bad values and rows that are repeated. <br/> Use the row selection widget at the bottom to delete unwanted rows.<br/>\n",
    "#### Note: Don't run any other cell after this before you finish the data cleansing process."
   ]
  },
  {
   "cell_type": "code",
   "execution_count": null,
   "id": "6601367b-14d2-4c4b-b42f-7711b960c95f",
   "metadata": {
    "tags": []
   },
   "outputs": [],
   "source": []
  },
  {
   "cell_type": "markdown",
   "id": "bb612a13-4493-44a9-9582-19b6c2b69b68",
   "metadata": {
    "deletable": false,
    "editable": false,
    "tags": []
   },
   "source": [
    "### 2. Build & train the KNN Model"
   ]
  },
  {
   "cell_type": "markdown",
   "id": "bfdfe391-fcac-4370-980b-e5053cd3a17c",
   "metadata": {
    "deletable": false,
    "editable": false,
    "tags": []
   },
   "source": [
    "2.1 Split the dataset"
   ]
  },
  {
   "cell_type": "code",
   "execution_count": null,
   "id": "fb593657-2fba-4e1e-aa9d-0b247079c70a",
   "metadata": {
    "tags": []
   },
   "outputs": [],
   "source": []
  },
  {
   "cell_type": "markdown",
   "id": "985be28b-dda6-4619-a734-f66c33ffea91",
   "metadata": {
    "deletable": false,
    "editable": false,
    "tags": []
   },
   "source": [
    "2.2  Create a KNN Model and specify the number of neighbors"
   ]
  },
  {
   "cell_type": "code",
   "execution_count": null,
   "id": "ef255c37-cb6a-42fa-870a-f43fbe44af5c",
   "metadata": {
    "tags": []
   },
   "outputs": [],
   "source": []
  },
  {
   "cell_type": "markdown",
   "id": "7626b075-05d3-4bff-9176-5eefe748c744",
   "metadata": {
    "deletable": false,
    "editable": false,
    "tags": []
   },
   "source": [
    "2.3 Train the KNN Model"
   ]
  },
  {
   "cell_type": "code",
   "execution_count": null,
   "id": "90523f56-0fda-4a8b-b648-bd4dadde5c0d",
   "metadata": {
    "tags": []
   },
   "outputs": [],
   "source": []
  },
  {
   "cell_type": "markdown",
   "id": "52314663-8576-4775-8f4a-ef67f0fd48e8",
   "metadata": {
    "deletable": false,
    "editable": false,
    "tags": []
   },
   "source": [
    "2.4 Test the KNN Model"
   ]
  },
  {
   "cell_type": "code",
   "execution_count": null,
   "id": "86369f42-1f1e-4fc6-a0a3-fca2001dadbe",
   "metadata": {
    "tags": []
   },
   "outputs": [],
   "source": []
  },
  {
   "cell_type": "markdown",
   "id": "ac16b660-6dd5-4c98-a9da-a1b903b45863",
   "metadata": {
    "deletable": false,
    "editable": false,
    "tags": []
   },
   "source": [
    "2.5 Show the confusion matrix & classification report"
   ]
  },
  {
   "cell_type": "code",
   "execution_count": null,
   "id": "dd36520e-efe7-4595-bc76-653999b230b7",
   "metadata": {
    "tags": []
   },
   "outputs": [],
   "source": []
  },
  {
   "cell_type": "code",
   "execution_count": null,
   "id": "fa619f38-a590-467a-aeac-904f7ac54146",
   "metadata": {
    "tags": []
   },
   "outputs": [],
   "source": []
  },
  {
   "cell_type": "markdown",
   "id": "fa03e1ae-b4e3-4bf4-9e92-389738741f96",
   "metadata": {
    "deletable": false,
    "editable": false,
    "tags": []
   },
   "source": [
    "\n",
    "\n",
    "### 4. Analyze your results and improve your model"
   ]
  },
  {
   "cell_type": "markdown",
   "id": "47b44186-b285-4d91-9a21-b9f394ac8b8b",
   "metadata": {
    "deletable": false,
    "editable": false,
    "tags": []
   },
   "source": [
    "4.1 Plot the number of data points per class using the function __*plot_datacount_class(data)*__ where data is the variable of the loaded data. "
   ]
  },
  {
   "cell_type": "code",
   "execution_count": null,
   "id": "afe117e9-db2a-478c-9af3-7dccae409cf7",
   "metadata": {},
   "outputs": [],
   "source": []
  },
  {
   "cell_type": "markdown",
   "id": "3801f3c0-33e4-4b4c-9977-80de202b1f22",
   "metadata": {
    "deletable": false,
    "editable": false,
    "tags": []
   },
   "source": [
    "## Notice how the recall & precision of the positive class are not good. This is due to having an imbalance in the dataset. We can improve this by having a more balanced dataset. Run the notebook again using the \"diabetes_balanced\" dataset. Compare the precision & recall values."
   ]
  }
 ],
 "metadata": {
  "kernelspec": {
   "display_name": "Python 3 (ipykernel)",
   "language": "python",
   "name": "python3"
  },
  "language_info": {
   "codemirror_mode": {
    "name": "ipython",
    "version": 3
   },
   "file_extension": ".py",
   "mimetype": "text/x-python",
   "name": "python",
   "nbconvert_exporter": "python",
   "pygments_lexer": "ipython3",
   "version": "3.10.10"
  }
 },
 "nbformat": 4,
 "nbformat_minor": 5
}
