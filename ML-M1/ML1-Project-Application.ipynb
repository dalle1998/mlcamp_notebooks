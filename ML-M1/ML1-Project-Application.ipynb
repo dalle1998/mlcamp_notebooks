{
 "cells": [
  {
   "cell_type": "markdown",
   "id": "036d1227",
   "metadata": {
    "deletable": false,
    "editable": false
   },
   "source": [
    "# ML1 - Project - Smart Grocery Shopping - Application"
   ]
  },
  {
   "cell_type": "markdown",
   "id": "3dd493e2",
   "metadata": {
    "deletable": false,
    "editable": false
   },
   "source": [
    "## Now that you have trained and save the KNN model, your task is to design the GUI for a fruit classifcation application that can predict the class of an uploaded image. \n",
    "<img style=\"float: center; /\"  width = \"1000\"  src=\"Notebook Images/ML-M1-Project-App-Image.png\">\n"
   ]
  },
  {
   "cell_type": "markdown",
   "id": "a4800eb1",
   "metadata": {
    "deletable": false,
    "editable": false,
    "id": 1
   },
   "source": [
    "### 1. Load the KNN model"
   ]
  },
  {
   "cell_type": "code",
   "execution_count": 3,
   "id": "6edcf6c1",
   "metadata": {},
   "outputs": [],
   "source": [
    "model = load_model('fruits_model')"
   ]
  },
  {
   "cell_type": "markdown",
   "id": "9eebf92e",
   "metadata": {
    "deletable": false,
    "editable": false,
    "id": 2
   },
   "source": [
    "### 2. Design a GUI for the application that includes:\n",
    "1. A main layout consisting of header, body and footer\n",
    "2. A title \n",
    "3. A load image button\n",
    "4. A Predict image button"
   ]
  },
  {
   "cell_type": "code",
   "execution_count": 4,
   "id": "c644c101",
   "metadata": {},
   "outputs": [
    {
     "data": {
      "application/vnd.jupyter.widget-view+json": {
       "model_id": "16bf863156164d58af24a8c344f4d850",
       "version_major": 2,
       "version_minor": 0
      },
      "text/plain": [
       "Box(children=(Box(children=(VBox(children=(HTML(value=' <h1 style=\"text-align:center; font-size:30pt; color:bl…"
      ]
     },
     "metadata": {},
     "output_type": "display_data"
    },
    {
     "name": "stdout",
     "output_type": "stream",
     "text": [
      "Error: No image is being used. Make sure the image is uploaded to the server.\n"
     ]
    }
   ],
   "source": [
    "main = start_layout(\"30%\", \"70%\", \"20%\")\n",
    "title = create_title_text(description = \"Fruit Classifier\", size = \"30pt\", height = \"80%\")\n",
    "upload2 = create_fileUploadButton(description = \"Load Image\", height = \"90%\", file_type = \"Image\")\n",
    "button6 = create_button(description = 'Predict Image', height = \"90%\", button_color = \"white\")\n",
    "link_button(button6, show_prediction_results, main,  model)\n",
    "place_elements(main, title, location = \"header\")\n",
    "place_elements(main, upload2, button6, location = \"header\", alignment = \"Horizontal\")\n",
    "display_main(main)"
   ]
  }
 ],
 "metadata": {
  "kernelspec": {
   "display_name": "Python 3 (ipykernel)",
   "language": "python",
   "name": "python3"
  },
  "language_info": {
   "codemirror_mode": {
    "name": "ipython",
    "version": 3
   },
   "file_extension": ".py",
   "mimetype": "text/x-python",
   "name": "python",
   "nbconvert_exporter": "python",
   "pygments_lexer": "ipython3",
   "version": "3.9.7"
  }
 },
 "nbformat": 4,
 "nbformat_minor": 5
}
